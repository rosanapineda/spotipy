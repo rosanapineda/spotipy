{
 "cells": [
  {
   "attachments": {
    "spotify.png": {
     "image/png": "[encoded data removed]"
    }
   },
   "cell_type": "markdown",
   "metadata": {},
   "source": [
    "\n",
    "![spotify.png](attachment:spotify.png)\n",
    "\n",
    "# Introduction\n",
    "Have you ever wondered how music differs from country to country? \n",
    "<br>\n",
    "Do the most played songs within a country share some common attributes?\n",
    "<br>\n",
    "How do these songs attributes differ from country to country?\n",
    "<br>\n",
    "Is there a common theme of the most listened songs world-wide?\n",
    "<br>\n",
    "\n",
    "\n",
    "If you answered yes to any of these questions keep reading because we are about to find out!\n",
    "<br>\n",
    "To try to answer these questions we are going to use data of *Spotify*, which is the world's largest music streaming platform by number of subscribers.\n",
    "\n"
   ]
  },
  {
   "cell_type": "markdown",
   "metadata": {},
   "source": [
    "### Tutorial Content\n",
    "\n",
    "For this tutorial we are going to use **Spotipy**.\n",
    "**Spotipy** is a lightweight Python library for the Spotify Web API. With Spotipy you get full access to all of the music data provided by the Spotify platform.\n",
    "We are going to analyze the \"TOP 50\" playlists of each of the countries in which Spotify is available. A full list of the countries in which Spotify is available can be found in the link in the References section.\n",
    "\n"
   ]
  },
  {
   "cell_type": "markdown",
   "metadata": {},
   "source": [
    "### Installing the libraries\n",
    "\n",
    "First, let's install the libraries.\n",
    "Install Spotipy with:\n",
    "<br>\n",
    "pip install spotipy\n",
    "<br>\n",
    "<br>\n",
    "Then import the libraries:\n"
   ]
  },
  {
   "cell_type": "code",
   "execution_count": 1,
   "metadata": {},
   "outputs": [],
   "source": [
    "import spotipy\n",
    "import spotipy.oauth2 as oauth2\n",
    "from spotipy.oauth2 import SpotifyClientCredentials #To access authorized Spotify data\n",
    "import pandas as pd"
   ]
  },
  {
   "cell_type": "markdown",
   "metadata": {},
   "source": [
    "### Authorized requests\n",
    "To make requests to the API you have to follow these steps: \n",
    "1. Have a Spotify user.\n",
    "2. Register an application on the Developer Dashboard to get your credentials. https://developer.spotify.com/dashboard/login\n",
    "3. Make authorized requests by either of these two methods: Authorization Code Flow and Client Credentials Flow. In this tutorial we are going to work with the last method.\n",
    "\n"
   ]
  },
  {
   "cell_type": "markdown",
   "metadata": {},
   "source": [
    "**Client Credentials Flow**\n",
    "<br>\n",
    "Create a Spotify object to access the API\n",
    "<br>\n",
    "Here we first define a function to create the object, which we'll use later on."
   ]
  },
  {
   "cell_type": "code",
   "execution_count": 2,
   "metadata": {},
   "outputs": [],
   "source": [
    "def sp_object(client_id, client_secret):\n",
    "    client_credentials_manager = SpotifyClientCredentials(client_id=client_id, client_secret=client_secret)\n",
    "    sp = spotipy.Spotify(client_credentials_manager=client_credentials_manager)\n",
    "    \n",
    "    return sp\n"
   ]
  },
  {
   "cell_type": "code",
   "execution_count": 3,
   "metadata": {},
   "outputs": [],
   "source": [
    "client_id= \"2582c4f549094459983e6b5589624886\"\n",
    "client_secret= \"d59b6141e9b441159ed10cba27abb068\"\n",
    "sp = sp_object(client_id, client_secret)"
   ]
  },
  {
   "cell_type": "markdown",
   "metadata": {},
   "source": [
    "For the purpose of this tutorial I created a cvs file with all the countries in which Spotify is available and its corresponding TOP 50 Playlist *uri*. I also added some extra information like what continent and subregion they belong to, which can be used for further analysis."
   ]
  },
  {
   "cell_type": "code",
   "execution_count": 4,
   "metadata": {},
   "outputs": [
    {
     "data": {
      "text/html": [
       "<div>\n",
       "<style scoped>\n",
       "    .dataframe tbody tr th:only-of-type {\n",
       "        vertical-align: middle;\n",
       "    }\n",
       "\n",
       "    .dataframe tbody tr th {\n",
       "        vertical-align: top;\n",
       "    }\n",
       "\n",
       "    .dataframe thead th {\n",
       "        text-align: right;\n",
       "    }\n",
       "</style>\n",
       "<table border=\"1\" class=\"dataframe\">\n",
       "  <thead>\n",
       "    <tr style=\"text-align: right;\">\n",
       "      <th></th>\n",
       "      <th>country_code</th>\n",
       "      <th>country_name</th>\n",
       "      <th>URI</th>\n",
       "      <th>Region</th>\n",
       "      <th>Subregion</th>\n",
       "    </tr>\n",
       "  </thead>\n",
       "  <tbody>\n",
       "    <tr>\n",
       "      <td>0</td>\n",
       "      <td>AE</td>\n",
       "      <td>Arab Emirates</td>\n",
       "      <td>spotify:playlist:2tSrjTxCdxxHc9J0npxYGb</td>\n",
       "      <td>Asia</td>\n",
       "      <td>Middle East</td>\n",
       "    </tr>\n",
       "    <tr>\n",
       "      <td>1</td>\n",
       "      <td>AR</td>\n",
       "      <td>Argentina</td>\n",
       "      <td>spotify:playlist:37i9dQZEVXbMMy2roB9myp</td>\n",
       "      <td>America</td>\n",
       "      <td>Latin America</td>\n",
       "    </tr>\n",
       "    <tr>\n",
       "      <td>2</td>\n",
       "      <td>AT</td>\n",
       "      <td>Austria</td>\n",
       "      <td>spotify:playlist:37i9dQZEVXbKNHh6NIXu36</td>\n",
       "      <td>Europe</td>\n",
       "      <td>Europe</td>\n",
       "    </tr>\n",
       "    <tr>\n",
       "      <td>3</td>\n",
       "      <td>BH</td>\n",
       "      <td>Bahrian</td>\n",
       "      <td>spotify:playlist:598uA4ClNJ0tGoAmrGTP2S</td>\n",
       "      <td>Asia</td>\n",
       "      <td>Middle East</td>\n",
       "    </tr>\n",
       "    <tr>\n",
       "      <td>4</td>\n",
       "      <td>BO</td>\n",
       "      <td>Bolivia</td>\n",
       "      <td>spotify:playlist:37i9dQZEVXbJqfMFK4d691</td>\n",
       "      <td>America</td>\n",
       "      <td>South America</td>\n",
       "    </tr>\n",
       "    <tr>\n",
       "      <td>...</td>\n",
       "      <td>...</td>\n",
       "      <td>...</td>\n",
       "      <td>...</td>\n",
       "      <td>...</td>\n",
       "      <td>...</td>\n",
       "    </tr>\n",
       "    <tr>\n",
       "      <td>70</td>\n",
       "      <td>LB</td>\n",
       "      <td>Lebanon</td>\n",
       "      <td>spotify:playlist:6W21hwI3VoQZSaim5ieLCq</td>\n",
       "      <td>Asia</td>\n",
       "      <td>Middle East</td>\n",
       "    </tr>\n",
       "    <tr>\n",
       "      <td>71</td>\n",
       "      <td>OM</td>\n",
       "      <td>Oman</td>\n",
       "      <td>spotify:playlist:0jUw7UdryJSGf2nQPP4gGL</td>\n",
       "      <td>Asia</td>\n",
       "      <td>Middle East</td>\n",
       "    </tr>\n",
       "    <tr>\n",
       "      <td>72</td>\n",
       "      <td>PS</td>\n",
       "      <td>Palestine</td>\n",
       "      <td>spotify:playlist:5EqbxP9txkYqaoIlJJElsS</td>\n",
       "      <td>Asia</td>\n",
       "      <td>Middle East</td>\n",
       "    </tr>\n",
       "    <tr>\n",
       "      <td>73</td>\n",
       "      <td>QA</td>\n",
       "      <td>Qatar</td>\n",
       "      <td>spotify:playlist:79PdSpltwUHKIN7OijUU5U</td>\n",
       "      <td>Asia</td>\n",
       "      <td>Middle East</td>\n",
       "    </tr>\n",
       "    <tr>\n",
       "      <td>74</td>\n",
       "      <td>SA</td>\n",
       "      <td>Saudi Arabia</td>\n",
       "      <td>spotify:playlist:5vTptlHUeFynGYqJonU19B</td>\n",
       "      <td>Asia</td>\n",
       "      <td>Middle East</td>\n",
       "    </tr>\n",
       "  </tbody>\n",
       "</table>\n",
       "<p>75 rows × 5 columns</p>\n",
       "</div>"
      ],
      "text/plain": [
       "   country_code   country_name                                      URI  \\\n",
       "0            AE  Arab Emirates  spotify:playlist:2tSrjTxCdxxHc9J0npxYGb   \n",
       "1            AR      Argentina  spotify:playlist:37i9dQZEVXbMMy2roB9myp   \n",
       "2            AT        Austria  spotify:playlist:37i9dQZEVXbKNHh6NIXu36   \n",
       "3            BH        Bahrian  spotify:playlist:598uA4ClNJ0tGoAmrGTP2S   \n",
       "4            BO        Bolivia  spotify:playlist:37i9dQZEVXbJqfMFK4d691   \n",
       "..          ...            ...                                      ...   \n",
       "70           LB        Lebanon  spotify:playlist:6W21hwI3VoQZSaim5ieLCq   \n",
       "71           OM           Oman  spotify:playlist:0jUw7UdryJSGf2nQPP4gGL   \n",
       "72           PS      Palestine  spotify:playlist:5EqbxP9txkYqaoIlJJElsS   \n",
       "73           QA          Qatar  spotify:playlist:79PdSpltwUHKIN7OijUU5U   \n",
       "74           SA   Saudi Arabia  spotify:playlist:5vTptlHUeFynGYqJonU19B   \n",
       "\n",
       "     Region      Subregion  \n",
       "0      Asia    Middle East  \n",
       "1   America  Latin America  \n",
       "2    Europe         Europe  \n",
       "3      Asia    Middle East  \n",
       "4   America  South America  \n",
       "..      ...            ...  \n",
       "70     Asia    Middle East  \n",
       "71     Asia    Middle East  \n",
       "72     Asia    Middle East  \n",
       "73     Asia    Middle East  \n",
       "74     Asia    Middle East  \n",
       "\n",
       "[75 rows x 5 columns]"
      ]
     },
     "execution_count": 4,
     "metadata": {},
     "output_type": "execute_result"
    }
   ],
   "source": [
    "import pandas as pd\n",
    "df = pd.read_csv (r'TOP50_COUNTRIES_PLAYLIST_URI.csv')\n",
    "df"
   ]
  },
  {
   "cell_type": "markdown",
   "metadata": {},
   "source": [
    "To make the musical feature analysis of the most played songs of a country we are going to follow this process:\n",
    "#### Pipeline\n",
    "**Extract the data**<br>\n",
    "Ouput: a dataframe per Top50 PLaylist per country with the audio features of each track.<br>\n",
    "1. Define a function that returns a list of the tracks on a Top50 playlist of a country.\n",
    "2. Define a function that returns the URI for each track on a TOP50 playlist of a country.\n",
    "3. Define a function that generates a dictionary for each of the tracks in a Top 50 playlist of a country.\n",
    "4. Define a function that generates a dataframe with these audio features per track.<br>\n",
    "\n",
    "**Analyze the data**\n",
    "<br>\n",
    "**Visualize the data**\n",
    "<br>\n",
    "For this purpose we are using the following library."
   ]
  },
  {
   "cell_type": "markdown",
   "metadata": {},
   "source": [
    "To return a list of tracks of a Top50 playlist of a country I used the Spotipy function user_playlist_tracks. The parameters for this function are:\n",
    "<br>\n",
    "user - the id of the user<br>\n",
    "playlist_id - the id of the playlist<br>\n",
    "fields - which fields to return<br>\n",
    "limit - the maximum number of tracks to return<br>\n",
    "offset - the index of the first track to return<br>\n",
    "market - an ISO 3166-1 alpha-2 country code.,<br>\n",
    "defined the following function. <br>\n",
    "Then, I defined my own function in which if you enter the name of a country in which Spotify is avaialable, you'll get the list of the tracks of that Top 50 playlist.\n",
    "*The first letter of the name of te country has to be capitalized.*"
   ]
  },
  {
   "cell_type": "code",
   "execution_count": 6,
   "metadata": {},
   "outputs": [],
   "source": [
    "def top50playlist_tracks(country):\n",
    "    import pandas as pd\n",
    "    df = pd.read_csv (r'TOP50_COUNTRIES_PLAYLIST_URI.csv')\n",
    "    top50_uri = list(df['URI'])\n",
    "    countries = list(df['country_name'])\n",
    "    countries_uri = dict(zip(countries, top50_uri))\n",
    "    tracks = sp.user_playlist_tracks('spotify', playlist_id= countries_uri[country], fields=None, limit=100, offset=0, market=None)\n",
    "    return tracks"
   ]
  },
  {
   "cell_type": "markdown",
   "metadata": {},
   "source": [
    "Define a function that returns the URI for each track on a TOP50 playlist of a country."
   ]
  },
  {
   "cell_type": "code",
   "execution_count": 7,
   "metadata": {},
   "outputs": [],
   "source": [
    "def uri_tracks_top50_country(country):\n",
    "    tracks = top50playlist_tracks(country)\n",
    "    uri_tracks = []\n",
    "    name_tracks = []\n",
    "    for i in range(len(tracks['items'])):\n",
    "        uri = tracks['items'][i]['track']['uri']\n",
    "        name = tracks['items'][i]['track']['name']\n",
    "        uri_tracks.append(uri)\n",
    "        name_tracks.append(name)\n",
    "    \n",
    "    dict_uri = dict(zip(name_tracks, uri_tracks))\n",
    "        \n",
    "    return dict_uri, uri_tracks, name_tracks"
   ]
  },
  {
   "cell_type": "markdown",
   "metadata": {},
   "source": [
    "In the following function we are creating a dictionary for all the music features within a TOP 50 playlist, which we'll later use to create a dataframe."
   ]
  },
  {
   "cell_type": "code",
   "execution_count": 8,
   "metadata": {},
   "outputs": [],
   "source": [
    "def features_tracks(country):\n",
    "    uri_tracks_top = uri_tracks_top50_country(country)[1]\n",
    "    name_tracks = uri_tracks_top50_country(country)[2]\n",
    "    features = sp.audio_features(list(uri_tracks_top))\n",
    "    \n",
    "    ft_danceability = []\n",
    "    ft_energy = []\n",
    "    ft_key = []\n",
    "    ft_loudness = []\n",
    "    ft_mode = []\n",
    "    ft_speechiness = []\n",
    "    ft_acousticness = []\n",
    "    ft_instrumentalness = []\n",
    "    ft_liveness = []\n",
    "    ft_valence = []\n",
    "    ft_tempo = []\n",
    "    for i in range(len(features)):\n",
    "        danceability = features[i]['danceability']\n",
    "        energy = features[i]['energy']\n",
    "        key = features[i]['key']\n",
    "        loudness = features[i]['loudness']\n",
    "        mode = features[i]['mode']\n",
    "        speechiness = features[i]['speechiness']\n",
    "        acousticness = features[i]['acousticness']\n",
    "        instrumentalness = features[i]['instrumentalness']\n",
    "        liveness = features[i]['liveness']\n",
    "        valence = features[i]['valence']\n",
    "        tempo = features[i]['tempo']\n",
    "        ft_danceability.append(danceability)\n",
    "        ft_energy.append(energy)\n",
    "        ft_key.append(key)\n",
    "        ft_loudness.append(loudness)\n",
    "        ft_mode.append(mode)\n",
    "        ft_speechiness.append(speechiness)\n",
    "        ft_acousticness.append(acousticness)\n",
    "        ft_instrumentalness.append(instrumentalness)\n",
    "        ft_liveness.append(liveness)\n",
    "        ft_valence.append(valence)\n",
    "        ft_tempo.append(tempo)\n",
    "        \n",
    "        data = {'track_name': name_tracks, \n",
    "        'uri': uri_tracks_top, \n",
    "        'danceability': ft_danceability,\n",
    "        'energy' : ft_energy,\n",
    "        'key' :ft_key,\n",
    "        'loudness': ft_loudness,\n",
    "        'mode': ft_mode,\n",
    "        'speechiness' : ft_speechiness,\n",
    "        'acousticness':ft_acousticness,\n",
    "        'instrumentalness': ft_instrumentalness,\n",
    "        'liveness': ft_liveness,\n",
    "        'valence': ft_valence,\n",
    "        'tempo' : ft_tempo \n",
    "        }\n",
    "        \n",
    "       \n",
    "        \n",
    "    return data"
   ]
  },
  {
   "cell_type": "markdown",
   "metadata": {},
   "source": [
    "In this function we generate a dataframe using the dictionary generated in the previous function."
   ]
  },
  {
   "cell_type": "code",
   "execution_count": 9,
   "metadata": {},
   "outputs": [],
   "source": [
    "def df_audioft(data):\n",
    "    import pandas as pd \n",
    "    audio_df = pd.DataFrame(data)\n",
    "    \n",
    "    return audio_df"
   ]
  },
  {
   "cell_type": "markdown",
   "metadata": {},
   "source": [
    "Now we can start creating a dataframe for the music features for each country.\n",
    "For the scope of this tutorial I'm going to choose the following countries: India, Mexico, Colombia, United States, Palestine, Hong Kong, Autralia, Spain, United Kingdom, Portugal, France."
   ]
  },
  {
   "cell_type": "code",
   "execution_count": 10,
   "metadata": {},
   "outputs": [],
   "source": [
    "data_mx = features_tracks('Mexico')\n",
    "df_mx = df_audioft(data_mx)\n"
   ]
  },
  {
   "cell_type": "code",
   "execution_count": 11,
   "metadata": {},
   "outputs": [],
   "source": [
    "data_col = features_tracks('Colombia')\n",
    "df_col = df_audioft(data_col)\n"
   ]
  },
  {
   "cell_type": "code",
   "execution_count": 12,
   "metadata": {},
   "outputs": [],
   "source": [
    "data_us = features_tracks('United States')\n",
    "df_us = df_audioft(data_us)\n"
   ]
  },
  {
   "cell_type": "code",
   "execution_count": 13,
   "metadata": {},
   "outputs": [],
   "source": [
    "data_in = features_tracks('India')\n",
    "df_in = df_audioft(data_in)\n"
   ]
  },
  {
   "cell_type": "code",
   "execution_count": null,
   "metadata": {},
   "outputs": [],
   "source": []
  },
  {
   "cell_type": "markdown",
   "metadata": {},
   "source": [
    "### Glossary\n",
    "*uri*: The resource identifier that you can enter, for example, in the Spotify Desktop client’s search box to locate an artist, album, or track.<br>\n",
    "Top 50 Playlist: Spotify creates these playlist based on the most listened songs of a country. These playlists are updated daily, however there's not a lot of variation from day to day, even weekly. \n",
    "\n",
    "\n",
    "### References and Resources\n",
    "Spotify trends and market https://www.businessofapps.com/data/spotify-statistics/\n",
    "<br>\n",
    "Spotipy documentation: https://spotipy.readthedocs.io/en/latest/#\n",
    "<br>\n",
    "List of Countries in which Spotify is available: https://support.spotify.com/us/using_spotify/the_basics/full-list-of-territories-where-spotify-is-available/"
   ]
  }
 ],
 "metadata": {
  "kernelspec": {
   "display_name": "Python 3",
   "language": "python",
   "name": "python3"
  },
  "language_info": {
   "codemirror_mode": {
    "name": "ipython",
    "version": 3
   },
   "file_extension": ".py",
   "mimetype": "text/x-python",
   "name": "python",
   "nbconvert_exporter": "python",
   "pygments_lexer": "ipython3",
   "version": "3.7.4"
  }
 },
 "nbformat": 4,
 "nbformat_minor": 2
}
