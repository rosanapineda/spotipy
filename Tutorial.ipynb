{
 "cells": [
  {
   "attachments": {
    "spotify.png": {
     "image/png": "[encoded data removed]"
    }
   },
   "cell_type": "markdown",
   "metadata": {},
   "source": [
    "\n",
    "![spotify.png](attachment:spotify.png)\n",
    "\n",
    "# Introduction\n",
    "Have you ever wondered how music differs from country to country? \n",
    "<br>\n",
    "Do the most played songs within a country share some common attributes?\n",
    "<br>\n",
    "Is there a common theme of the most listened songs world-wide?\n",
    "<br>\n",
    "\n",
    "\n",
    "If you answered yes to any of these questions keep reading because we are about to find out!\n",
    "<br>\n",
    "To try to answer these questions we are going to use data of *Spotify*, which is the world's largest music streaming platform by number of subscribers.\n",
    "\n"
   ]
  },
  {
   "cell_type": "markdown",
   "metadata": {},
   "source": [
    "### Tutorial Content\n",
    "\n",
    "For this tutorial we are going to use **Spotipy**.\n",
    "**Spotipy** is a lightweight Python library for the Spotify Web API. With Spotipy you get full access to all of the music data provided by the Spotify platform.\n",
    "We are going to analyze the Top 50 playlists of each of the countries in which Spotify is available. A full list of the countries in which Spotify is available can be found in the link in the References section.\n",
    "\n"
   ]
  },
  {
   "cell_type": "markdown",
   "metadata": {},
   "source": [
    "### Installing the libraries\n",
    "\n",
    "First, let's install the libraries.\n",
    "Install Spotipy with:\n",
    "<br>\n",
    "pip install spotipy\n",
    "<br>\n",
    "Install plotly for data visualization with:\n",
    "<br>\n",
    "pip install plotly  \n",
    "<br>\n",
    "Then import the libraries:\n"
   ]
  },
  {
   "cell_type": "code",
   "execution_count": 19,
   "metadata": {},
   "outputs": [],
   "source": [
    "import spotipy\n",
    "import spotipy.oauth2 as oauth2\n",
    "from spotipy.oauth2 import SpotifyClientCredentials #To access authorized Spotify data\n",
    "import pandas as pd\n",
    "import plotly.graph_objects as go\n",
    "import plotly.io as pio\n",
    "import plotly.express as px #library used to visualize data"
   ]
  },
  {
   "cell_type": "code",
   "execution_count": null,
   "metadata": {},
   "outputs": [],
   "source": []
  },
  {
   "cell_type": "markdown",
   "metadata": {},
   "source": [
    "### Spotipy library\n",
    "\n",
    "Spotipy library allows you to retrieve data in an easy way from the Spotify server. We could classify the available functions of the library as follows:\n",
    "1. *Functions to make requests*: authorizes you to pass your credentials to make requests to the server.\n",
    "<br>\n",
    "\n",
    "2. *Descriptive functions*: get information like name from an artist, track, album or playlist, when the input is an id.Or get information about a current user.<br>\n",
    "Example:<br>\n",
    "album(album_id)<br>\n",
    "    returns a single album given the album’s ID, URIs or URL<br>\n",
    "    Parameters:<br>\n",
    "    album_id - the album ID, URI or URL<br>\n",
    "   <br> \n",
    "3. *Audio Analysis functions*: retrieves information that can help you do audio analysis.<br>\n",
    "Example:<br>\n",
    "audio_features(tracks=[])<br>\n",
    "    Get audio features for one or multiple tracks based upon their Spotify IDs Parameters:<br>\n",
    "    Parameters:<br>\n",
    "    tracks - a list of track URIs, URLs or IDs, maximum: 50 ids<br>\n",
    "We are using this function for the Example application.\n",
    "<br>\n",
    "    \n",
    "4. *Recommendation functions*: get a recommended list of songs based on a music genre, country or artist. Also get recommendations of new releases.\n",
    "Example:<br>\n",
    "    recommendations(seed_artists=None, seed_genres=None, seed_tracks=None, limit=20, country=None, **kwargs)\n",
    "    <br>\n",
    "\n",
    "5. *Create functions*: allows you to create playlists for a user, add or delete tracks to a specific playlist.\n",
    "<br>Example:<br>\n",
    "    user_playlist_create(user, name, public=True, description='')<br>\n",
    "    Creates a playlist for a user\n",
    "<br>\n",
    "Let's get started!"
   ]
  },
  {
   "cell_type": "markdown",
   "metadata": {},
   "source": [
    "### Authorized requests\n",
    "Spotipy allows you to access data from Spotify from either Authorized or Unauthorized requests. It's recommended to pass all the requests as authorized requests as there are more avialable functions and it also allows you to request more data.<br>\n",
    "To make requests to the API you have to follow these steps: \n",
    "1. Have a Spotify user.\n",
    "2. Register an application on the Developer Dashboard to get your credentials. https://developer.spotify.com/dashboard/login\n",
    "3. Make authorized requests by either of these two methods: Authorization Code Flow and Client Credentials Flow. In this tutorial we are going to work with the last method.\n",
    "\n"
   ]
  },
  {
   "cell_type": "markdown",
   "metadata": {},
   "source": [
    "**Client Credentials Flow**\n",
    "<br>\n",
    "Create a Spotify object to access the API\n",
    "<br>\n",
    "Here we first define a function to create the object, which we'll use later on."
   ]
  },
  {
   "cell_type": "code",
   "execution_count": 2,
   "metadata": {},
   "outputs": [],
   "source": [
    "def sp_object(client_id, client_secret):\n",
    "    client_credentials_manager = SpotifyClientCredentials(client_id=client_id, client_secret=client_secret)#pass credentials\n",
    "    sp = spotipy.Spotify(client_credentials_manager=client_credentials_manager)#create object\n",
    "    \n",
    "    return sp\n"
   ]
  },
  {
   "cell_type": "code",
   "execution_count": 3,
   "metadata": {},
   "outputs": [],
   "source": [
    "client_id= \"2582c4f549094459983e6b5589624886\"\n",
    "client_secret= \"d59b6141e9b441159ed10cba27abb068\"\n",
    "sp = sp_object(client_id, client_secret) #create spotify object to make requests using function we defined"
   ]
  },
  {
   "cell_type": "markdown",
   "metadata": {},
   "source": [
    "For the purpose of this tutorial I created a cvs file with all the countries in which Spotify is available and its corresponding TOP 50 Playlist *uri* which I extracted from the Spotify Website. I also added some extra information like what continent and subregion they belong to, which can be used for further analysis."
   ]
  },
  {
   "cell_type": "code",
   "execution_count": 4,
   "metadata": {},
   "outputs": [],
   "source": [
    "import pandas as pd\n",
    "df = pd.read_csv (r'TOP50_COUNTRIES_PLAYLIST_URI.csv')  #load dataframe\n"
   ]
  },
  {
   "cell_type": "markdown",
   "metadata": {},
   "source": [
    "## Example application\n",
    "Make a musical analysis of the most played songs of a country and visualize this data comparing countries.<br> \n",
    "The musical analysis we are going to perform will be based on the audio features of the most played songs of a country. To get the most played songs of a country we are going to use as a *proxy* **Spotify Top 50 playlists** per country, which are uploaded daily based on the most streamed songs on a particular location. <br>\n",
    "The way Spotify generates these playlists is heavily influenced by Global Trends so we don't expect to see a lot of variation from country to country.<br>\n",
    "\n",
    "#### Pipeline\n",
    "**Extract the data**<br>\n",
    "Desired ouput: a dataframe for Top 50 Playlist of a country that includes the audio features of each track.<br>\n",
    "1. Define a function that returns a list of the tracks on a Top 50 playlist of a country. This for the purpose of extracting the data from Spotify's server.\n",
    "2. Define a function that returns the *uri* for each track on a Top 50 playlist of a country. We do this because if we want to get the audio features of a playlist, the input has to be an uri. \n",
    "3. Define a function that generates a dictionary of the audio features for each of the tracks in a Top 50 playlist of a country.\n",
    "4. Define a function that generates a dataframe with these audio features per track.<br>\n",
    "\n",
    "**Analyze the data and Visualize the data**\n",
    "<br>\n",
    "For this purpose we are using the following library: plotly"
   ]
  },
  {
   "cell_type": "markdown",
   "metadata": {},
   "source": [
    "### Step 1\n",
    "To return a list of tracks of a Top50 playlist of a country I used the Spotipy function user_playlist_tracks. The parameters for this function are:\n",
    "<br>\n",
    "user - the id of the user. In our case Spotify.<br>\n",
    "playlist_id - the id of the playlist. Provided by the dataframe I created.<br>\n",
    "fields - which fields to return<br>\n",
    "limit - the maximum number of tracks to return<br>\n",
    "offset - the index of the first track to return<br>\n",
    "market - an ISO 3166-1 alpha-2 country code.,<br>\n",
    "defined the following function. <br>\n",
    "Then, I defined my own function in which if you enter the name of a country in which Spotify is avaialable, you'll get the list of the tracks of that Top 50 playlist.\n",
    "*The first letter of the name of the country has to be capitalized.*"
   ]
  },
  {
   "cell_type": "code",
   "execution_count": 5,
   "metadata": {},
   "outputs": [],
   "source": [
    "def top50playlist_tracks(country):\n",
    "    import pandas as pd\n",
    "    df = pd.read_csv (r'TOP50_COUNTRIES_PLAYLIST_URI.csv')\n",
    "    top50_uri = list(df['URI'])\n",
    "    countries = list(df['country_name'])\n",
    "    countries_uri = dict(zip(countries, top50_uri))\n",
    "    tracks = sp.user_playlist_tracks('spotify', playlist_id= countries_uri[country], fields=None, limit=100, offset=0, market=None)\n",
    "    return tracks"
   ]
  },
  {
   "cell_type": "markdown",
   "metadata": {},
   "source": [
    "Define a function that returns the URI for each track on a TOP50 playlist of a country."
   ]
  },
  {
   "cell_type": "code",
   "execution_count": 7,
   "metadata": {},
   "outputs": [],
   "source": [
    "def uri_tracks_top50_country(country):\n",
    "    tracks = top50playlist_tracks(country)\n",
    "    uri_tracks = []\n",
    "    name_tracks = []\n",
    "    for i in range(len(tracks['items'])):\n",
    "        uri = tracks['items'][i]['track']['uri']\n",
    "        name = tracks['items'][i]['track']['name']\n",
    "        uri_tracks.append(uri)\n",
    "        name_tracks.append(name)\n",
    "    \n",
    "    dict_uri = dict(zip(name_tracks, uri_tracks))\n",
    "        \n",
    "    return dict_uri, uri_tracks, name_tracks"
   ]
  },
  {
   "cell_type": "markdown",
   "metadata": {},
   "source": [
    "In the following function we are creating a dictionary for all the music features that we are interested in analyzing. For a more complete explanation of what these characteristics mean go to the Glossary section. "
   ]
  },
  {
   "cell_type": "code",
   "execution_count": 8,
   "metadata": {},
   "outputs": [],
   "source": [
    "def features_tracks(country):\n",
    "    uri_tracks_top = uri_tracks_top50_country(country)[1]\n",
    "    name_tracks = uri_tracks_top50_country(country)[2]\n",
    "    features = sp.audio_features(list(uri_tracks_top)) #here we are using this function to get the audio features.\n",
    "    \n",
    "    ft_danceability = []\n",
    "    ft_energy = []\n",
    "    ft_key = []\n",
    "    ft_loudness = []\n",
    "    ft_mode = []\n",
    "    ft_speechiness = []\n",
    "    ft_acousticness = []\n",
    "    ft_instrumentalness = []\n",
    "    ft_liveness = []\n",
    "    ft_valence = []\n",
    "    ft_tempo = []\n",
    "    for i in range(len(features)):\n",
    "        danceability = features[i]['danceability']\n",
    "        energy = features[i]['energy']\n",
    "        key = features[i]['key']\n",
    "        loudness = features[i]['loudness']\n",
    "        mode = features[i]['mode']\n",
    "        speechiness = features[i]['speechiness']\n",
    "        acousticness = features[i]['acousticness']\n",
    "        instrumentalness = features[i]['instrumentalness']\n",
    "        liveness = features[i]['liveness']\n",
    "        valence = features[i]['valence']\n",
    "        tempo = features[i]['tempo']\n",
    "        ft_danceability.append(danceability)\n",
    "        ft_energy.append(energy)\n",
    "        ft_key.append(key)\n",
    "        ft_loudness.append(loudness)\n",
    "        ft_mode.append(mode)\n",
    "        ft_speechiness.append(speechiness)\n",
    "        ft_acousticness.append(acousticness)\n",
    "        ft_instrumentalness.append(instrumentalness)\n",
    "        ft_liveness.append(liveness)\n",
    "        ft_valence.append(valence)\n",
    "        ft_tempo.append(tempo)\n",
    "        \n",
    "        data = {'track_name': name_tracks, \n",
    "        'uri': uri_tracks_top, \n",
    "        'danceability': ft_danceability,\n",
    "        'energy' : ft_energy,\n",
    "        'key' :ft_key,\n",
    "        'loudness': ft_loudness,\n",
    "        'mode': ft_mode,\n",
    "        'speechiness' : ft_speechiness,\n",
    "        'acousticness':ft_acousticness,\n",
    "        'instrumentalness': ft_instrumentalness,\n",
    "        'liveness': ft_liveness,\n",
    "        'valence': ft_valence,\n",
    "        'tempo' : ft_tempo \n",
    "        }\n",
    "        \n",
    "       \n",
    "        \n",
    "    return data"
   ]
  },
  {
   "cell_type": "markdown",
   "metadata": {},
   "source": [
    "In this function we generate a dataframe using the dictionary generated in the previous function."
   ]
  },
  {
   "cell_type": "code",
   "execution_count": 9,
   "metadata": {},
   "outputs": [],
   "source": [
    "def df_audioft(data):\n",
    "    import pandas as pd \n",
    "    audio_df = pd.DataFrame(data)\n",
    "    \n",
    "    return audio_df"
   ]
  },
  {
   "cell_type": "markdown",
   "metadata": {},
   "source": [
    "To make a more automated process we can use the two previously created functions to generate a dataframe with the audio characteristics per track of the Top 50 playlist of a determined country.\n",
    "The input is the country you want to analyze and the output will be the dataframe with the audio characteristics of the Top 50 Playlist."
   ]
  },
  {
   "cell_type": "code",
   "execution_count": 10,
   "metadata": {},
   "outputs": [],
   "source": [
    "def df_fin(country):\n",
    "    data = features_tracks(country)\n",
    "    audio_df = df_audioft(data)\n",
    "    return audio_df\n",
    "    "
   ]
  },
  {
   "cell_type": "markdown",
   "metadata": {},
   "source": [
    "Now we can start creating a dataframe for the music features for each country.\n",
    "For the scope of this tutorial I'm going to choose the following countries: Mexico, Colombia, United States,Egypt,Taiwan, Turkey and Spain."
   ]
  },
  {
   "cell_type": "code",
   "execution_count": 11,
   "metadata": {},
   "outputs": [],
   "source": [
    "df_mx = df_fin('Mexico')\n",
    "df_co = df_fin('Colombia')\n",
    "df_us = df_fin('United States')\n",
    "df_eg = df_fin('Egypt')\n",
    "df_tw = df_fin('Taiwan')\n",
    "df_sp = df_fin('Spain')\n",
    "df_tk = df_fin('Turkey')"
   ]
  },
  {
   "cell_type": "markdown",
   "metadata": {},
   "source": [
    "Let's visualize the data! <br>\n",
    "**Danceability**<br>\n",
    "Describes how suitable a track is for dancing based on a combination of musical elements including tempo, rhythm stability, beat strength, and overall regularity. "
   ]
  },
  {
   "cell_type": "code",
   "execution_count": 21,
   "metadata": {
    "scrolled": true
   },
   "outputs": [
    {
     "data": {
      "text/html": [
       "        <script type=\"text/javascript\">\n",
       "        window.PlotlyConfig = {MathJaxConfig: 'local'};\n",
       "        if (window.MathJax) {MathJax.Hub.Config({SVG: {font: \"STIX-Web\"}});}\n",
       "        if (typeof require !== 'undefined') {\n",
       "        require.undef(\"plotly\");\n",
       "        requirejs.config({\n",
       "            paths: {\n",
       "                'plotly': ['https://cdn.plot.ly/plotly-latest.min']\n",
       "            }\n",
       "        });\n",
       "        require(['plotly'], function(Plotly) {\n",
       "            window._Plotly = Plotly;\n",
       "        });\n",
       "        }\n",
       "        </script>\n",
       "        "
      ]
     },
     "metadata": {},
     "output_type": "display_data"
    },
    {
     "data": {
      "text/html": [
       "<div>\n",
       "        \n",
       "        \n",
       "            <div id=\"89fa461c-dae5-49ef-a334-b2756cc98786\" class=\"plotly-graph-div\" style=\"height:525px; width:100%;\"></div>\n",
       "            <script type=\"text/javascript\">\n",
       "                require([\"plotly\"], function(Plotly) {\n",
       "                    window.PLOTLYENV=window.PLOTLYENV || {};\n",
       "                    \n",
       "                if (document.getElementById(\"89fa461c-dae5-49ef-a334-b2756cc98786\")) {\n",
       "                    Plotly.newPlot(\n",
       "                        '89fa461c-dae5-49ef-a334-b2756cc98786',\n",
       "                        [{\"boxpoints\": \"all\", \"fillcolor\": \"rgba(93, 164, 214, 0.5)\", \"jitter\": 0.5, \"line\": {\"width\": 1}, \"marker\": {\"size\": 2}, \"name\": \"Mexico\", \"type\": \"box\", \"whiskerwidth\": 0.2, \"y\": [0.786, 0.754, 0.731, 0.61, 0.806, 0.699, 0.777, 0.728, 0.734, 0.78, 0.795, 0.882, 0.759, 0.639, 0.675, 0.752, 0.738, 0.747, 0.694, 0.847, 0.734, 0.864, 0.825, 0.725, 0.635, 0.843, 0.855, 0.723, 0.83, 0.727, 0.856, 0.719, 0.745, 0.837, 0.877, 0.762, 0.879, 0.81, 0.378, 0.732, 0.691, 0.813, 0.477, 0.644, 0.826, 0.737, 0.688, 0.695, 0.504, 0.836]}, {\"boxpoints\": \"all\", \"fillcolor\": \"rgba(255, 65, 54, 0.5)\", \"jitter\": 0.5, \"line\": {\"width\": 1}, \"marker\": {\"size\": 2}, \"name\": \"Colombia\", \"type\": \"box\", \"whiskerwidth\": 0.2, \"y\": [0.786, 0.734, 0.754, 0.731, 0.61, 0.806, 0.738, 0.727, 0.635, 0.639, 0.732, 0.747, 0.78, 0.795, 0.879, 0.777, 0.82, 0.725, 0.759, 0.817, 0.552, 0.882, 0.703, 0.721, 0.648, 0.719, 0.681, 0.729, 0.694, 0.701, 0.728, 0.665, 0.673, 0.747, 0.863, 0.857, 0.688, 0.877, 0.743, 0.855, 0.618, 0.691, 0.826, 0.679, 0.584, 0.691, 0.773, 0.718, 0.805, 0.731]}, {\"boxpoints\": \"all\", \"fillcolor\": \"rgba(255, 144, 14, 0.5)\", \"jitter\": 0.5, \"line\": {\"width\": 1}, \"marker\": {\"size\": 2}, \"name\": \"United States\", \"type\": \"box\", \"whiskerwidth\": 0.2, \"y\": [0.598, 0.585, 0.695, 0.474, 0.654, 0.715, 0.931, 0.745, 0.778, 0.855, 0.787, 0.501, 0.755, 0.703, 0.58, 0.698, 0.831, 0.499, 0.617, 0.764, 0.768, 0.769, 0.567, 0.682, 0.542, 0.876, 0.701, 0.759, 0.64, 0.97, 0.825, 0.784, 0.843, 0.477, 0.876, 0.667, 0.753, 0.772, 0.829, 0.974, 0.686, 0.405, 0.717, 0.809, 0.82, 0.837, 0.693, 0.684, 0.862, 0.614]}, {\"boxpoints\": \"all\", \"fillcolor\": \"rgba(44, 160, 101, 0.5)\", \"jitter\": 0.5, \"line\": {\"width\": 1}, \"marker\": {\"size\": 2}, \"name\": \"Turkey\", \"type\": \"box\", \"whiskerwidth\": 0.2, \"y\": [0.743, 0.805, 0.54, 0.893, 0.53, 0.878, 0.64, 0.762, 0.769, 0.659, 0.843, 0.793, 0.703, 0.759, 0.621, 0.698, 0.747, 0.582, 0.533, 0.825, 0.598, 0.611, 0.355, 0.81, 0.683, 0.777, 0.781, 0.745, 0.84, 0.865, 0.943, 0.832, 0.701, 0.605, 0.795, 0.762, 0.797, 0.715, 0.947, 0.904, 0.76, 0.711, 0.557, 0.42, 0.821, 0.578, 0.923, 0.874, 0.586, 0.692]}, {\"boxpoints\": \"all\", \"fillcolor\": \"rgba(127, 96, 0, 0.5)\", \"jitter\": 0.5, \"line\": {\"width\": 1}, \"marker\": {\"size\": 2}, \"name\": \"Spain\", \"type\": \"box\", \"whiskerwidth\": 0.2, \"y\": [0.786, 0.78, 0.734, 0.473, 0.729, 0.879, 0.758, 0.682, 0.732, 0.853, 0.672, 0.731, 0.743, 0.738, 0.61, 0.806, 0.83, 0.725, 0.727, 0.795, 0.786, 0.754, 0.84, 0.696, 0.856, 0.606, 0.825, 0.774, 0.635, 0.759, 0.795, 0.829, 0.759, 0.677, 0.9, 0.769, 0.819, 0.856, 0.897, 0.747, 0.639, 0.817, 0.536, 0.882, 0.689, 0.745, 0.694, 0.846, 0.74, 0.862]}, {\"boxpoints\": \"all\", \"fillcolor\": \"rgba(200, 124, 80, 0.5)\", \"jitter\": 0.5, \"line\": {\"width\": 1}, \"marker\": {\"size\": 2}, \"name\": \"Taiwan\", \"type\": \"box\", \"whiskerwidth\": 0.2, \"y\": [0.512, 0.669, 0.764, 0.759, 0.654, 0.703, 0.695, 0.64, 0.36, 0.604, 0.543, 0.496, 0.738, 0.768, 0.518, 0.615, 0.522, 0.825, 0.477, 0.605, 0.547, 0.534, 0.547, 0.709, 0.521, 0.501, 0.701, 0.708, 0.648, 0.526, 0.294, 0.373, 0.74, 0.618, 0.667, 0.693, 0.643, 0.694, 0.806, 0.521, 0.742, 0.873, 0.695, 0.656, 0.598, 0.601, 0.798, 0.35, 0.767, 0.36]}, {\"boxpoints\": \"all\", \"fillcolor\": \"rgba(150, 170, 220, 0.5)\", \"jitter\": 0.5, \"line\": {\"width\": 1}, \"marker\": {\"size\": 2}, \"name\": \"Egypt\", \"type\": \"box\", \"whiskerwidth\": 0.2, \"y\": [0.787, 0.695, 0.662, 0.881, 0.757, 0.521, 0.739, 0.591, 0.746, 0.704, 0.571, 0.757, 0.503, 0.792, 0.758, 0.667, 0.654, 0.438, 0.698, 0.742, 0.664, 0.877, 0.75, 0.398, 0.637, 0.513, 0.765, 0.835, 0.756, 0.734, 0.686, 0.771, 0.858, 0.7, 0.416, 0.814, 0.878, 0.707, 0.596, 0.784, 0.638, 0.678, 0.722, 0.74, 0.56, 0.583, 0.791, 0.82, 0.608, 0.831, 0.878, 0.653, 0.698, 0.645, 0.895, 0.669, 0.609, 0.596, 0.684, 0.759, 0.674, 0.828]}],\n",
       "                        {\"template\": {\"data\": {\"bar\": [{\"error_x\": {\"color\": \"#2a3f5f\"}, \"error_y\": {\"color\": \"#2a3f5f\"}, \"marker\": {\"line\": {\"color\": \"#E5ECF6\", \"width\": 0.5}}, \"type\": \"bar\"}], \"barpolar\": [{\"marker\": {\"line\": {\"color\": \"#E5ECF6\", \"width\": 0.5}}, \"type\": \"barpolar\"}], \"carpet\": [{\"aaxis\": {\"endlinecolor\": \"#2a3f5f\", \"gridcolor\": \"white\", \"linecolor\": \"white\", \"minorgridcolor\": \"white\", \"startlinecolor\": \"#2a3f5f\"}, \"baxis\": {\"endlinecolor\": \"#2a3f5f\", \"gridcolor\": \"white\", \"linecolor\": \"white\", \"minorgridcolor\": \"white\", \"startlinecolor\": \"#2a3f5f\"}, \"type\": \"carpet\"}], \"choropleth\": [{\"colorbar\": {\"outlinewidth\": 0, \"ticks\": \"\"}, \"type\": \"choropleth\"}], \"contour\": [{\"colorbar\": {\"outlinewidth\": 0, \"ticks\": \"\"}, \"colorscale\": [[0.0, \"#0d0887\"], [0.1111111111111111, \"#46039f\"], [0.2222222222222222, \"#7201a8\"], [0.3333333333333333, \"#9c179e\"], [0.4444444444444444, \"#bd3786\"], [0.5555555555555556, \"#d8576b\"], [0.6666666666666666, \"#ed7953\"], [0.7777777777777778, \"#fb9f3a\"], [0.8888888888888888, \"#fdca26\"], [1.0, \"#f0f921\"]], \"type\": \"contour\"}], \"contourcarpet\": [{\"colorbar\": {\"outlinewidth\": 0, \"ticks\": \"\"}, \"type\": \"contourcarpet\"}], \"heatmap\": [{\"colorbar\": {\"outlinewidth\": 0, \"ticks\": \"\"}, \"colorscale\": [[0.0, \"#0d0887\"], [0.1111111111111111, \"#46039f\"], [0.2222222222222222, \"#7201a8\"], [0.3333333333333333, \"#9c179e\"], [0.4444444444444444, \"#bd3786\"], [0.5555555555555556, \"#d8576b\"], [0.6666666666666666, \"#ed7953\"], [0.7777777777777778, \"#fb9f3a\"], [0.8888888888888888, \"#fdca26\"], [1.0, \"#f0f921\"]], \"type\": \"heatmap\"}], \"heatmapgl\": [{\"colorbar\": {\"outlinewidth\": 0, \"ticks\": \"\"}, \"colorscale\": [[0.0, \"#0d0887\"], [0.1111111111111111, \"#46039f\"], [0.2222222222222222, \"#7201a8\"], [0.3333333333333333, \"#9c179e\"], [0.4444444444444444, \"#bd3786\"], [0.5555555555555556, \"#d8576b\"], [0.6666666666666666, \"#ed7953\"], [0.7777777777777778, \"#fb9f3a\"], [0.8888888888888888, \"#fdca26\"], [1.0, \"#f0f921\"]], \"type\": \"heatmapgl\"}], \"histogram\": [{\"marker\": {\"colorbar\": {\"outlinewidth\": 0, \"ticks\": \"\"}}, \"type\": \"histogram\"}], \"histogram2d\": [{\"colorbar\": {\"outlinewidth\": 0, \"ticks\": \"\"}, \"colorscale\": [[0.0, \"#0d0887\"], [0.1111111111111111, \"#46039f\"], [0.2222222222222222, \"#7201a8\"], [0.3333333333333333, \"#9c179e\"], [0.4444444444444444, \"#bd3786\"], [0.5555555555555556, \"#d8576b\"], [0.6666666666666666, \"#ed7953\"], [0.7777777777777778, \"#fb9f3a\"], [0.8888888888888888, \"#fdca26\"], [1.0, \"#f0f921\"]], \"type\": \"histogram2d\"}], \"histogram2dcontour\": [{\"colorbar\": {\"outlinewidth\": 0, \"ticks\": \"\"}, \"colorscale\": [[0.0, \"#0d0887\"], [0.1111111111111111, \"#46039f\"], [0.2222222222222222, \"#7201a8\"], [0.3333333333333333, \"#9c179e\"], [0.4444444444444444, \"#bd3786\"], [0.5555555555555556, \"#d8576b\"], [0.6666666666666666, \"#ed7953\"], [0.7777777777777778, \"#fb9f3a\"], [0.8888888888888888, \"#fdca26\"], [1.0, \"#f0f921\"]], \"type\": \"histogram2dcontour\"}], \"mesh3d\": [{\"colorbar\": {\"outlinewidth\": 0, \"ticks\": \"\"}, \"type\": \"mesh3d\"}], \"parcoords\": [{\"line\": {\"colorbar\": {\"outlinewidth\": 0, \"ticks\": \"\"}}, \"type\": \"parcoords\"}], \"scatter\": [{\"marker\": {\"colorbar\": {\"outlinewidth\": 0, \"ticks\": \"\"}}, \"type\": \"scatter\"}], \"scatter3d\": [{\"line\": {\"colorbar\": {\"outlinewidth\": 0, \"ticks\": \"\"}}, \"marker\": {\"colorbar\": {\"outlinewidth\": 0, \"ticks\": \"\"}}, \"type\": \"scatter3d\"}], \"scattercarpet\": [{\"marker\": {\"colorbar\": {\"outlinewidth\": 0, \"ticks\": \"\"}}, \"type\": \"scattercarpet\"}], \"scattergeo\": [{\"marker\": {\"colorbar\": {\"outlinewidth\": 0, \"ticks\": \"\"}}, \"type\": \"scattergeo\"}], \"scattergl\": [{\"marker\": {\"colorbar\": {\"outlinewidth\": 0, \"ticks\": \"\"}}, \"type\": \"scattergl\"}], \"scattermapbox\": [{\"marker\": {\"colorbar\": {\"outlinewidth\": 0, \"ticks\": \"\"}}, \"type\": \"scattermapbox\"}], \"scatterpolar\": [{\"marker\": {\"colorbar\": {\"outlinewidth\": 0, \"ticks\": \"\"}}, \"type\": \"scatterpolar\"}], \"scatterpolargl\": [{\"marker\": {\"colorbar\": {\"outlinewidth\": 0, \"ticks\": \"\"}}, \"type\": \"scatterpolargl\"}], \"scatterternary\": [{\"marker\": {\"colorbar\": {\"outlinewidth\": 0, \"ticks\": \"\"}}, \"type\": \"scatterternary\"}], \"surface\": [{\"colorbar\": {\"outlinewidth\": 0, \"ticks\": \"\"}, \"colorscale\": [[0.0, \"#0d0887\"], [0.1111111111111111, \"#46039f\"], [0.2222222222222222, \"#7201a8\"], [0.3333333333333333, \"#9c179e\"], [0.4444444444444444, \"#bd3786\"], [0.5555555555555556, \"#d8576b\"], [0.6666666666666666, \"#ed7953\"], [0.7777777777777778, \"#fb9f3a\"], [0.8888888888888888, \"#fdca26\"], [1.0, \"#f0f921\"]], \"type\": \"surface\"}], \"table\": [{\"cells\": {\"fill\": {\"color\": \"#EBF0F8\"}, \"line\": {\"color\": \"white\"}}, \"header\": {\"fill\": {\"color\": \"#C8D4E3\"}, \"line\": {\"color\": \"white\"}}, \"type\": \"table\"}]}, \"layout\": {\"annotationdefaults\": {\"arrowcolor\": \"#2a3f5f\", \"arrowhead\": 0, \"arrowwidth\": 1}, \"colorscale\": {\"diverging\": [[0, \"#8e0152\"], [0.1, \"#c51b7d\"], [0.2, \"#de77ae\"], [0.3, \"#f1b6da\"], [0.4, \"#fde0ef\"], [0.5, \"#f7f7f7\"], [0.6, \"#e6f5d0\"], [0.7, \"#b8e186\"], [0.8, \"#7fbc41\"], [0.9, \"#4d9221\"], [1, \"#276419\"]], \"sequential\": [[0.0, \"#0d0887\"], [0.1111111111111111, \"#46039f\"], [0.2222222222222222, \"#7201a8\"], [0.3333333333333333, \"#9c179e\"], [0.4444444444444444, \"#bd3786\"], [0.5555555555555556, \"#d8576b\"], [0.6666666666666666, \"#ed7953\"], [0.7777777777777778, \"#fb9f3a\"], [0.8888888888888888, \"#fdca26\"], [1.0, \"#f0f921\"]], \"sequentialminus\": [[0.0, \"#0d0887\"], [0.1111111111111111, \"#46039f\"], [0.2222222222222222, \"#7201a8\"], [0.3333333333333333, \"#9c179e\"], [0.4444444444444444, \"#bd3786\"], [0.5555555555555556, \"#d8576b\"], [0.6666666666666666, \"#ed7953\"], [0.7777777777777778, \"#fb9f3a\"], [0.8888888888888888, \"#fdca26\"], [1.0, \"#f0f921\"]]}, \"colorway\": [\"#636efa\", \"#EF553B\", \"#00cc96\", \"#ab63fa\", \"#FFA15A\", \"#19d3f3\", \"#FF6692\", \"#B6E880\", \"#FF97FF\", \"#FECB52\"], \"font\": {\"color\": \"#2a3f5f\"}, \"geo\": {\"bgcolor\": \"white\", \"lakecolor\": \"white\", \"landcolor\": \"#E5ECF6\", \"showlakes\": true, \"showland\": true, \"subunitcolor\": \"white\"}, \"hoverlabel\": {\"align\": \"left\"}, \"hovermode\": \"closest\", \"mapbox\": {\"style\": \"light\"}, \"paper_bgcolor\": \"white\", \"plot_bgcolor\": \"#E5ECF6\", \"polar\": {\"angularaxis\": {\"gridcolor\": \"white\", \"linecolor\": \"white\", \"ticks\": \"\"}, \"bgcolor\": \"#E5ECF6\", \"radialaxis\": {\"gridcolor\": \"white\", \"linecolor\": \"white\", \"ticks\": \"\"}}, \"scene\": {\"xaxis\": {\"backgroundcolor\": \"#E5ECF6\", \"gridcolor\": \"white\", \"gridwidth\": 2, \"linecolor\": \"white\", \"showbackground\": true, \"ticks\": \"\", \"zerolinecolor\": \"white\"}, \"yaxis\": {\"backgroundcolor\": \"#E5ECF6\", \"gridcolor\": \"white\", \"gridwidth\": 2, \"linecolor\": \"white\", \"showbackground\": true, \"ticks\": \"\", \"zerolinecolor\": \"white\"}, \"zaxis\": {\"backgroundcolor\": \"#E5ECF6\", \"gridcolor\": \"white\", \"gridwidth\": 2, \"linecolor\": \"white\", \"showbackground\": true, \"ticks\": \"\", \"zerolinecolor\": \"white\"}}, \"shapedefaults\": {\"line\": {\"color\": \"#2a3f5f\"}}, \"ternary\": {\"aaxis\": {\"gridcolor\": \"white\", \"linecolor\": \"white\", \"ticks\": \"\"}, \"baxis\": {\"gridcolor\": \"white\", \"linecolor\": \"white\", \"ticks\": \"\"}, \"bgcolor\": \"#E5ECF6\", \"caxis\": {\"gridcolor\": \"white\", \"linecolor\": \"white\", \"ticks\": \"\"}}, \"title\": {\"x\": 0.05}, \"xaxis\": {\"automargin\": true, \"gridcolor\": \"white\", \"linecolor\": \"white\", \"ticks\": \"\", \"zerolinecolor\": \"white\", \"zerolinewidth\": 2}, \"yaxis\": {\"automargin\": true, \"gridcolor\": \"white\", \"linecolor\": \"white\", \"ticks\": \"\", \"zerolinecolor\": \"white\", \"zerolinewidth\": 2}}}, \"title\": {\"text\": \"Danceability\"}},\n",
       "                        {\"responsive\": true}\n",
       "                    ).then(function(){\n",
       "                            \n",
       "var gd = document.getElementById('89fa461c-dae5-49ef-a334-b2756cc98786');\n",
       "var x = new MutationObserver(function (mutations, observer) {{\n",
       "        var display = window.getComputedStyle(gd).display;\n",
       "        if (!display || display === 'none') {{\n",
       "            console.log([gd, 'removed!']);\n",
       "            Plotly.purge(gd);\n",
       "            observer.disconnect();\n",
       "        }}\n",
       "}});\n",
       "\n",
       "// Listen for the removal of the full notebook cells\n",
       "var notebookContainer = gd.closest('#notebook-container');\n",
       "if (notebookContainer) {{\n",
       "    x.observe(notebookContainer, {childList: true});\n",
       "}}\n",
       "\n",
       "// Listen for the clearing of the current output cell\n",
       "var outputEl = gd.closest('.output');\n",
       "if (outputEl) {{\n",
       "    x.observe(outputEl, {childList: true});\n",
       "}}\n",
       "\n",
       "                        })\n",
       "                };\n",
       "                });\n",
       "            </script>\n",
       "        </div>"
      ]
     },
     "metadata": {},
     "output_type": "display_data"
    }
   ],
   "source": [
    "import plotly.graph_objects as go\n",
    "import plotly.io as pio\n",
    "import numpy as np\n",
    "x_data = ['Mexico','Colombia','United States', 'Turkey', 'Spain', 'Taiwan', 'Egypt']\n",
    "y0 = np.array(df_mx['danceability'])\n",
    "y1 = np.array(df_co['danceability'])\n",
    "y2 = np.array(df_us['danceability'])\n",
    "y3 = np.array(df_tk['danceability'])\n",
    "y4 = np.array(df_sp['danceability'])\n",
    "y5 = np.array(df_tw['danceability'])\n",
    "y6 = np.array(df_eg['danceability'])\n",
    "\n",
    "y_data = [y0, y1, y2, y3, y4, y5, y6]\n",
    "colors = ['rgba(93, 164, 214, 0.5)','rgba(255, 65, 54, 0.5)', \n",
    "          'rgba(255, 144, 14, 0.5)', 'rgba(44, 160, 101, 0.5)', 'rgba(127, 96, 0, 0.5)',\n",
    "        'rgba(200, 124, 80, 0.5)', 'rgba(150, 170, 220, 0.5)', 'rgba(70, 170, 220, 0.5)' ]\n",
    "\n",
    "fig = go.Figure()\n",
    "\n",
    "for xd, yd, cls in zip(x_data, y_data, colors):\n",
    "        fig.add_trace(go.Box(\n",
    "            y=yd,\n",
    "            name=xd,\n",
    "            boxpoints='all',\n",
    "            jitter=0.5,\n",
    "            whiskerwidth=0.2,\n",
    "            fillcolor=cls,\n",
    "            marker_size=2,\n",
    "            line_width=1)\n",
    "        )\n",
    "fig.update_layout(\n",
    "    title='Danceability')\n",
    "\n",
    "fig.show(renderer=\"notebook_connected\")\n"
   ]
  },
  {
   "cell_type": "markdown",
   "metadata": {},
   "source": [
    "With this preliminary analysis on the audio feature of 'danceability' we can see that the countries with the 'most danceable' songs on average are Spain, Mexico and Colombia.  Between Mexico and Colombia there are a lot of common songs. Also, their distributions have less degree of variation, than other countries like the United States for example.<br>\n",
    "Now let's take a closer look at the audio features per country."
   ]
  },
  {
   "cell_type": "markdown",
   "metadata": {},
   "source": [
    "To visualize the audio features per country Top 50 playlist, we are using a graph called Polar. This will allow us to see characteristics that are stronger on average in a playlist. The audio features that I chose for this analysis are: danceability, speechiness, acousticness, liveness, valence and energy.All these features are measured in a countinuous scale that go from 0 to 1(inclusive), where 1 is the highest value.\n",
    "<br> I left out tempo, key, loudness and mode from this visualization, mainly because these characteristics are measured in a different scale and some of them are also contained within some of the characteristics that we are already analyzing. For example, danceability already accounts for tempo and loudness, while valence accounts for key and mode."
   ]
  },
  {
   "cell_type": "code",
   "execution_count": 13,
   "metadata": {},
   "outputs": [],
   "source": [
    "def get_means(country):\n",
    "    df = df_fin(country)\n",
    "    d = df.mean()['danceability']\n",
    "    s =df.mean()['speechiness']\n",
    "    a = df.mean()['acousticness']\n",
    "    i = df.mean()['instrumentalness']\n",
    "    l = df.mean()['liveness']\n",
    "    v = df.mean()['valence']\n",
    "    e = df.mean()['energy']\n",
    "    r = [d, s, a, i, l ,v, e]\n",
    "    return r"
   ]
  },
  {
   "cell_type": "markdown",
   "metadata": {},
   "source": [
    "We defines the previous function so we can get a list of the averages of the features, which we'll use for visualizing the data."
   ]
  },
  {
   "cell_type": "code",
   "execution_count": 22,
   "metadata": {},
   "outputs": [],
   "source": [
    "def audio_polar(country):\n",
    "    import plotly.graph_objects as go\n",
    "\n",
    "    fig = go.Figure(data=go.Scatterpolar(\n",
    "      r= get_means(country),\n",
    "      theta=['danceability','speechiness','acousticness', 'instrumentalness',\n",
    "               'liveness', 'valence', 'energy'],\n",
    "      fill='toself', fillcolor= 'rgba(93, 164, 214, 0.5)', line=dict(width=1, color='rgb(127, 166, 238)')\n",
    "    ))\n",
    "\n",
    "    fig.update_layout(\n",
    "      polar=dict(\n",
    "       radialaxis=dict(\n",
    "          visible=True,\n",
    "           range=[0, 1]\n",
    "        ),\n",
    "      ),\n",
    "      showlegend=False\n",
    "    )\n",
    "\n",
    "    return fig.show(renderer=\"notebook_connected\")"
   ]
  },
  {
   "cell_type": "code",
   "execution_count": 23,
   "metadata": {},
   "outputs": [
    {
     "data": {
      "text/html": [
       "        <script type=\"text/javascript\">\n",
       "        window.PlotlyConfig = {MathJaxConfig: 'local'};\n",
       "        if (window.MathJax) {MathJax.Hub.Config({SVG: {font: \"STIX-Web\"}});}\n",
       "        if (typeof require !== 'undefined') {\n",
       "        require.undef(\"plotly\");\n",
       "        requirejs.config({\n",
       "            paths: {\n",
       "                'plotly': ['https://cdn.plot.ly/plotly-latest.min']\n",
       "            }\n",
       "        });\n",
       "        require(['plotly'], function(Plotly) {\n",
       "            window._Plotly = Plotly;\n",
       "        });\n",
       "        }\n",
       "        </script>\n",
       "        "
      ]
     },
     "metadata": {},
     "output_type": "display_data"
    },
    {
     "data": {
      "text/html": [
       "<div>\n",
       "        \n",
       "        \n",
       "            <div id=\"f885196c-08b0-4110-887b-2956665f4aca\" class=\"plotly-graph-div\" style=\"height:525px; width:100%;\"></div>\n",
       "            <script type=\"text/javascript\">\n",
       "                require([\"plotly\"], function(Plotly) {\n",
       "                    window.PLOTLYENV=window.PLOTLYENV || {};\n",
       "                    \n",
       "                if (document.getElementById(\"f885196c-08b0-4110-887b-2956665f4aca\")) {\n",
       "                    Plotly.newPlot(\n",
       "                        'f885196c-08b0-4110-887b-2956665f4aca',\n",
       "                        [{\"fill\": \"toself\", \"fillcolor\": \"rgba(93, 164, 214, 0.5)\", \"line\": {\"color\": \"rgb(127, 166, 238)\", \"width\": 1}, \"r\": [0.7440000000000001, 0.12993800000000003, 0.2495826000000001, 0.009456944, 0.15356399999999992, 0.67404, 0.70268], \"theta\": [\"danceability\", \"speechiness\", \"acousticness\", \"instrumentalness\", \"liveness\", \"valence\", \"energy\"], \"type\": \"scatterpolar\"}],\n",
       "                        {\"polar\": {\"radialaxis\": {\"range\": [0, 1], \"visible\": true}}, \"showlegend\": false, \"template\": {\"data\": {\"bar\": [{\"error_x\": {\"color\": \"#2a3f5f\"}, \"error_y\": {\"color\": \"#2a3f5f\"}, \"marker\": {\"line\": {\"color\": \"#E5ECF6\", \"width\": 0.5}}, \"type\": \"bar\"}], \"barpolar\": [{\"marker\": {\"line\": {\"color\": \"#E5ECF6\", \"width\": 0.5}}, \"type\": \"barpolar\"}], \"carpet\": [{\"aaxis\": {\"endlinecolor\": \"#2a3f5f\", \"gridcolor\": \"white\", \"linecolor\": \"white\", \"minorgridcolor\": \"white\", \"startlinecolor\": \"#2a3f5f\"}, \"baxis\": {\"endlinecolor\": \"#2a3f5f\", \"gridcolor\": \"white\", \"linecolor\": \"white\", \"minorgridcolor\": \"white\", \"startlinecolor\": \"#2a3f5f\"}, \"type\": \"carpet\"}], \"choropleth\": [{\"colorbar\": {\"outlinewidth\": 0, \"ticks\": \"\"}, \"type\": \"choropleth\"}], \"contour\": [{\"colorbar\": {\"outlinewidth\": 0, \"ticks\": \"\"}, \"colorscale\": [[0.0, \"#0d0887\"], [0.1111111111111111, \"#46039f\"], [0.2222222222222222, \"#7201a8\"], [0.3333333333333333, \"#9c179e\"], [0.4444444444444444, \"#bd3786\"], [0.5555555555555556, \"#d8576b\"], [0.6666666666666666, \"#ed7953\"], [0.7777777777777778, \"#fb9f3a\"], [0.8888888888888888, \"#fdca26\"], [1.0, \"#f0f921\"]], \"type\": \"contour\"}], \"contourcarpet\": [{\"colorbar\": {\"outlinewidth\": 0, \"ticks\": \"\"}, \"type\": \"contourcarpet\"}], \"heatmap\": [{\"colorbar\": {\"outlinewidth\": 0, \"ticks\": \"\"}, \"colorscale\": [[0.0, \"#0d0887\"], [0.1111111111111111, \"#46039f\"], [0.2222222222222222, \"#7201a8\"], [0.3333333333333333, \"#9c179e\"], [0.4444444444444444, \"#bd3786\"], [0.5555555555555556, \"#d8576b\"], [0.6666666666666666, \"#ed7953\"], [0.7777777777777778, \"#fb9f3a\"], [0.8888888888888888, \"#fdca26\"], [1.0, \"#f0f921\"]], \"type\": \"heatmap\"}], \"heatmapgl\": [{\"colorbar\": {\"outlinewidth\": 0, \"ticks\": \"\"}, \"colorscale\": [[0.0, \"#0d0887\"], [0.1111111111111111, \"#46039f\"], [0.2222222222222222, \"#7201a8\"], [0.3333333333333333, \"#9c179e\"], [0.4444444444444444, \"#bd3786\"], [0.5555555555555556, \"#d8576b\"], [0.6666666666666666, \"#ed7953\"], [0.7777777777777778, \"#fb9f3a\"], [0.8888888888888888, \"#fdca26\"], [1.0, \"#f0f921\"]], \"type\": \"heatmapgl\"}], \"histogram\": [{\"marker\": {\"colorbar\": {\"outlinewidth\": 0, \"ticks\": \"\"}}, \"type\": \"histogram\"}], \"histogram2d\": [{\"colorbar\": {\"outlinewidth\": 0, \"ticks\": \"\"}, \"colorscale\": [[0.0, \"#0d0887\"], [0.1111111111111111, \"#46039f\"], [0.2222222222222222, \"#7201a8\"], [0.3333333333333333, \"#9c179e\"], [0.4444444444444444, \"#bd3786\"], [0.5555555555555556, \"#d8576b\"], [0.6666666666666666, \"#ed7953\"], [0.7777777777777778, \"#fb9f3a\"], [0.8888888888888888, \"#fdca26\"], [1.0, \"#f0f921\"]], \"type\": \"histogram2d\"}], \"histogram2dcontour\": [{\"colorbar\": {\"outlinewidth\": 0, \"ticks\": \"\"}, \"colorscale\": [[0.0, \"#0d0887\"], [0.1111111111111111, \"#46039f\"], [0.2222222222222222, \"#7201a8\"], [0.3333333333333333, \"#9c179e\"], [0.4444444444444444, \"#bd3786\"], [0.5555555555555556, \"#d8576b\"], [0.6666666666666666, \"#ed7953\"], [0.7777777777777778, \"#fb9f3a\"], [0.8888888888888888, \"#fdca26\"], [1.0, \"#f0f921\"]], \"type\": \"histogram2dcontour\"}], \"mesh3d\": [{\"colorbar\": {\"outlinewidth\": 0, \"ticks\": \"\"}, \"type\": \"mesh3d\"}], \"parcoords\": [{\"line\": {\"colorbar\": {\"outlinewidth\": 0, \"ticks\": \"\"}}, \"type\": \"parcoords\"}], \"scatter\": [{\"marker\": {\"colorbar\": {\"outlinewidth\": 0, \"ticks\": \"\"}}, \"type\": \"scatter\"}], \"scatter3d\": [{\"line\": {\"colorbar\": {\"outlinewidth\": 0, \"ticks\": \"\"}}, \"marker\": {\"colorbar\": {\"outlinewidth\": 0, \"ticks\": \"\"}}, \"type\": \"scatter3d\"}], \"scattercarpet\": [{\"marker\": {\"colorbar\": {\"outlinewidth\": 0, \"ticks\": \"\"}}, \"type\": \"scattercarpet\"}], \"scattergeo\": [{\"marker\": {\"colorbar\": {\"outlinewidth\": 0, \"ticks\": \"\"}}, \"type\": \"scattergeo\"}], \"scattergl\": [{\"marker\": {\"colorbar\": {\"outlinewidth\": 0, \"ticks\": \"\"}}, \"type\": \"scattergl\"}], \"scattermapbox\": [{\"marker\": {\"colorbar\": {\"outlinewidth\": 0, \"ticks\": \"\"}}, \"type\": \"scattermapbox\"}], \"scatterpolar\": [{\"marker\": {\"colorbar\": {\"outlinewidth\": 0, \"ticks\": \"\"}}, \"type\": \"scatterpolar\"}], \"scatterpolargl\": [{\"marker\": {\"colorbar\": {\"outlinewidth\": 0, \"ticks\": \"\"}}, \"type\": \"scatterpolargl\"}], \"scatterternary\": [{\"marker\": {\"colorbar\": {\"outlinewidth\": 0, \"ticks\": \"\"}}, \"type\": \"scatterternary\"}], \"surface\": [{\"colorbar\": {\"outlinewidth\": 0, \"ticks\": \"\"}, \"colorscale\": [[0.0, \"#0d0887\"], [0.1111111111111111, \"#46039f\"], [0.2222222222222222, \"#7201a8\"], [0.3333333333333333, \"#9c179e\"], [0.4444444444444444, \"#bd3786\"], [0.5555555555555556, \"#d8576b\"], [0.6666666666666666, \"#ed7953\"], [0.7777777777777778, \"#fb9f3a\"], [0.8888888888888888, \"#fdca26\"], [1.0, \"#f0f921\"]], \"type\": \"surface\"}], \"table\": [{\"cells\": {\"fill\": {\"color\": \"#EBF0F8\"}, \"line\": {\"color\": \"white\"}}, \"header\": {\"fill\": {\"color\": \"#C8D4E3\"}, \"line\": {\"color\": \"white\"}}, \"type\": \"table\"}]}, \"layout\": {\"annotationdefaults\": {\"arrowcolor\": \"#2a3f5f\", \"arrowhead\": 0, \"arrowwidth\": 1}, \"colorscale\": {\"diverging\": [[0, \"#8e0152\"], [0.1, \"#c51b7d\"], [0.2, \"#de77ae\"], [0.3, \"#f1b6da\"], [0.4, \"#fde0ef\"], [0.5, \"#f7f7f7\"], [0.6, \"#e6f5d0\"], [0.7, \"#b8e186\"], [0.8, \"#7fbc41\"], [0.9, \"#4d9221\"], [1, \"#276419\"]], \"sequential\": [[0.0, \"#0d0887\"], [0.1111111111111111, \"#46039f\"], [0.2222222222222222, \"#7201a8\"], [0.3333333333333333, \"#9c179e\"], [0.4444444444444444, \"#bd3786\"], [0.5555555555555556, \"#d8576b\"], [0.6666666666666666, \"#ed7953\"], [0.7777777777777778, \"#fb9f3a\"], [0.8888888888888888, \"#fdca26\"], [1.0, \"#f0f921\"]], \"sequentialminus\": [[0.0, \"#0d0887\"], [0.1111111111111111, \"#46039f\"], [0.2222222222222222, \"#7201a8\"], [0.3333333333333333, \"#9c179e\"], [0.4444444444444444, \"#bd3786\"], [0.5555555555555556, \"#d8576b\"], [0.6666666666666666, \"#ed7953\"], [0.7777777777777778, \"#fb9f3a\"], [0.8888888888888888, \"#fdca26\"], [1.0, \"#f0f921\"]]}, \"colorway\": [\"#636efa\", \"#EF553B\", \"#00cc96\", \"#ab63fa\", \"#FFA15A\", \"#19d3f3\", \"#FF6692\", \"#B6E880\", \"#FF97FF\", \"#FECB52\"], \"font\": {\"color\": \"#2a3f5f\"}, \"geo\": {\"bgcolor\": \"white\", \"lakecolor\": \"white\", \"landcolor\": \"#E5ECF6\", \"showlakes\": true, \"showland\": true, \"subunitcolor\": \"white\"}, \"hoverlabel\": {\"align\": \"left\"}, \"hovermode\": \"closest\", \"mapbox\": {\"style\": \"light\"}, \"paper_bgcolor\": \"white\", \"plot_bgcolor\": \"#E5ECF6\", \"polar\": {\"angularaxis\": {\"gridcolor\": \"white\", \"linecolor\": \"white\", \"ticks\": \"\"}, \"bgcolor\": \"#E5ECF6\", \"radialaxis\": {\"gridcolor\": \"white\", \"linecolor\": \"white\", \"ticks\": \"\"}}, \"scene\": {\"xaxis\": {\"backgroundcolor\": \"#E5ECF6\", \"gridcolor\": \"white\", \"gridwidth\": 2, \"linecolor\": \"white\", \"showbackground\": true, \"ticks\": \"\", \"zerolinecolor\": \"white\"}, \"yaxis\": {\"backgroundcolor\": \"#E5ECF6\", \"gridcolor\": \"white\", \"gridwidth\": 2, \"linecolor\": \"white\", \"showbackground\": true, \"ticks\": \"\", \"zerolinecolor\": \"white\"}, \"zaxis\": {\"backgroundcolor\": \"#E5ECF6\", \"gridcolor\": \"white\", \"gridwidth\": 2, \"linecolor\": \"white\", \"showbackground\": true, \"ticks\": \"\", \"zerolinecolor\": \"white\"}}, \"shapedefaults\": {\"line\": {\"color\": \"#2a3f5f\"}}, \"ternary\": {\"aaxis\": {\"gridcolor\": \"white\", \"linecolor\": \"white\", \"ticks\": \"\"}, \"baxis\": {\"gridcolor\": \"white\", \"linecolor\": \"white\", \"ticks\": \"\"}, \"bgcolor\": \"#E5ECF6\", \"caxis\": {\"gridcolor\": \"white\", \"linecolor\": \"white\", \"ticks\": \"\"}}, \"title\": {\"x\": 0.05}, \"xaxis\": {\"automargin\": true, \"gridcolor\": \"white\", \"linecolor\": \"white\", \"ticks\": \"\", \"zerolinecolor\": \"white\", \"zerolinewidth\": 2}, \"yaxis\": {\"automargin\": true, \"gridcolor\": \"white\", \"linecolor\": \"white\", \"ticks\": \"\", \"zerolinecolor\": \"white\", \"zerolinewidth\": 2}}}},\n",
       "                        {\"responsive\": true}\n",
       "                    ).then(function(){\n",
       "                            \n",
       "var gd = document.getElementById('f885196c-08b0-4110-887b-2956665f4aca');\n",
       "var x = new MutationObserver(function (mutations, observer) {{\n",
       "        var display = window.getComputedStyle(gd).display;\n",
       "        if (!display || display === 'none') {{\n",
       "            console.log([gd, 'removed!']);\n",
       "            Plotly.purge(gd);\n",
       "            observer.disconnect();\n",
       "        }}\n",
       "}});\n",
       "\n",
       "// Listen for the removal of the full notebook cells\n",
       "var notebookContainer = gd.closest('#notebook-container');\n",
       "if (notebookContainer) {{\n",
       "    x.observe(notebookContainer, {childList: true});\n",
       "}}\n",
       "\n",
       "// Listen for the clearing of the current output cell\n",
       "var outputEl = gd.closest('.output');\n",
       "if (outputEl) {{\n",
       "    x.observe(outputEl, {childList: true});\n",
       "}}\n",
       "\n",
       "                        })\n",
       "                };\n",
       "                });\n",
       "            </script>\n",
       "        </div>"
      ]
     },
     "metadata": {},
     "output_type": "display_data"
    }
   ],
   "source": [
    "audio_polar('Mexico')"
   ]
  },
  {
   "cell_type": "markdown",
   "metadata": {},
   "source": [
    "For Mexico we can see that the most played songs, on average, are high on danceability, energy and valence. <br> \n",
    "How does it compares to others?<br>\n",
    "To answer this question we are going to compare it to Taiwan, which had the lowest average for danceability.<br>"
   ]
  },
  {
   "cell_type": "code",
   "execution_count": 24,
   "metadata": {},
   "outputs": [
    {
     "data": {
      "text/html": [
       "        <script type=\"text/javascript\">\n",
       "        window.PlotlyConfig = {MathJaxConfig: 'local'};\n",
       "        if (window.MathJax) {MathJax.Hub.Config({SVG: {font: \"STIX-Web\"}});}\n",
       "        if (typeof require !== 'undefined') {\n",
       "        require.undef(\"plotly\");\n",
       "        requirejs.config({\n",
       "            paths: {\n",
       "                'plotly': ['https://cdn.plot.ly/plotly-latest.min']\n",
       "            }\n",
       "        });\n",
       "        require(['plotly'], function(Plotly) {\n",
       "            window._Plotly = Plotly;\n",
       "        });\n",
       "        }\n",
       "        </script>\n",
       "        "
      ]
     },
     "metadata": {},
     "output_type": "display_data"
    },
    {
     "data": {
      "text/html": [
       "<div>\n",
       "        \n",
       "        \n",
       "            <div id=\"0769b4a0-edaa-4ff8-a010-c653ddb2f976\" class=\"plotly-graph-div\" style=\"height:525px; width:100%;\"></div>\n",
       "            <script type=\"text/javascript\">\n",
       "                require([\"plotly\"], function(Plotly) {\n",
       "                    window.PLOTLYENV=window.PLOTLYENV || {};\n",
       "                    \n",
       "                if (document.getElementById(\"0769b4a0-edaa-4ff8-a010-c653ddb2f976\")) {\n",
       "                    Plotly.newPlot(\n",
       "                        '0769b4a0-edaa-4ff8-a010-c653ddb2f976',\n",
       "                        [{\"fill\": \"toself\", \"fillcolor\": \"rgba(93, 164, 214, 0.5)\", \"line\": {\"color\": \"rgb(127, 166, 238)\", \"width\": 1}, \"name\": \"Mexico\", \"r\": [0.7440000000000001, 0.12993800000000003, 0.2495826000000001, 0.009456944, 0.15356399999999992, 0.67404, 0.70268], \"theta\": [\"danceability\", \"speechiness\", \"acousticness\", \"instrumentalness\", \"liveness\", \"valence\", \"energy\"], \"type\": \"scatterpolar\"}, {\"fill\": \"toself\", \"fillcolor\": \"rgba(255, 144, 14, 0.5)\", \"line\": {\"color\": \"rgb(127, 166, 238)\", \"width\": 1}, \"name\": \"Taiwan\", \"r\": [0.6179600000000002, 0.062784, 0.3833836000000001, 0.0027781290000000003, 0.13828599999999996, 0.41084999999999994, 0.5405799999999998], \"theta\": [\"danceability\", \"speechiness\", \"acousticness\", \"instrumentalness\", \"liveness\", \"valence\", \"energy\"], \"type\": \"scatterpolar\"}],\n",
       "                        {\"polar\": {\"radialaxis\": {\"range\": [0, 1], \"visible\": true}}, \"showlegend\": true, \"template\": {\"data\": {\"bar\": [{\"error_x\": {\"color\": \"#2a3f5f\"}, \"error_y\": {\"color\": \"#2a3f5f\"}, \"marker\": {\"line\": {\"color\": \"#E5ECF6\", \"width\": 0.5}}, \"type\": \"bar\"}], \"barpolar\": [{\"marker\": {\"line\": {\"color\": \"#E5ECF6\", \"width\": 0.5}}, \"type\": \"barpolar\"}], \"carpet\": [{\"aaxis\": {\"endlinecolor\": \"#2a3f5f\", \"gridcolor\": \"white\", \"linecolor\": \"white\", \"minorgridcolor\": \"white\", \"startlinecolor\": \"#2a3f5f\"}, \"baxis\": {\"endlinecolor\": \"#2a3f5f\", \"gridcolor\": \"white\", \"linecolor\": \"white\", \"minorgridcolor\": \"white\", \"startlinecolor\": \"#2a3f5f\"}, \"type\": \"carpet\"}], \"choropleth\": [{\"colorbar\": {\"outlinewidth\": 0, \"ticks\": \"\"}, \"type\": \"choropleth\"}], \"contour\": [{\"colorbar\": {\"outlinewidth\": 0, \"ticks\": \"\"}, \"colorscale\": [[0.0, \"#0d0887\"], [0.1111111111111111, \"#46039f\"], [0.2222222222222222, \"#7201a8\"], [0.3333333333333333, \"#9c179e\"], [0.4444444444444444, \"#bd3786\"], [0.5555555555555556, \"#d8576b\"], [0.6666666666666666, \"#ed7953\"], [0.7777777777777778, \"#fb9f3a\"], [0.8888888888888888, \"#fdca26\"], [1.0, \"#f0f921\"]], \"type\": \"contour\"}], \"contourcarpet\": [{\"colorbar\": {\"outlinewidth\": 0, \"ticks\": \"\"}, \"type\": \"contourcarpet\"}], \"heatmap\": [{\"colorbar\": {\"outlinewidth\": 0, \"ticks\": \"\"}, \"colorscale\": [[0.0, \"#0d0887\"], [0.1111111111111111, \"#46039f\"], [0.2222222222222222, \"#7201a8\"], [0.3333333333333333, \"#9c179e\"], [0.4444444444444444, \"#bd3786\"], [0.5555555555555556, \"#d8576b\"], [0.6666666666666666, \"#ed7953\"], [0.7777777777777778, \"#fb9f3a\"], [0.8888888888888888, \"#fdca26\"], [1.0, \"#f0f921\"]], \"type\": \"heatmap\"}], \"heatmapgl\": [{\"colorbar\": {\"outlinewidth\": 0, \"ticks\": \"\"}, \"colorscale\": [[0.0, \"#0d0887\"], [0.1111111111111111, \"#46039f\"], [0.2222222222222222, \"#7201a8\"], [0.3333333333333333, \"#9c179e\"], [0.4444444444444444, \"#bd3786\"], [0.5555555555555556, \"#d8576b\"], [0.6666666666666666, \"#ed7953\"], [0.7777777777777778, \"#fb9f3a\"], [0.8888888888888888, \"#fdca26\"], [1.0, \"#f0f921\"]], \"type\": \"heatmapgl\"}], \"histogram\": [{\"marker\": {\"colorbar\": {\"outlinewidth\": 0, \"ticks\": \"\"}}, \"type\": \"histogram\"}], \"histogram2d\": [{\"colorbar\": {\"outlinewidth\": 0, \"ticks\": \"\"}, \"colorscale\": [[0.0, \"#0d0887\"], [0.1111111111111111, \"#46039f\"], [0.2222222222222222, \"#7201a8\"], [0.3333333333333333, \"#9c179e\"], [0.4444444444444444, \"#bd3786\"], [0.5555555555555556, \"#d8576b\"], [0.6666666666666666, \"#ed7953\"], [0.7777777777777778, \"#fb9f3a\"], [0.8888888888888888, \"#fdca26\"], [1.0, \"#f0f921\"]], \"type\": \"histogram2d\"}], \"histogram2dcontour\": [{\"colorbar\": {\"outlinewidth\": 0, \"ticks\": \"\"}, \"colorscale\": [[0.0, \"#0d0887\"], [0.1111111111111111, \"#46039f\"], [0.2222222222222222, \"#7201a8\"], [0.3333333333333333, \"#9c179e\"], [0.4444444444444444, \"#bd3786\"], [0.5555555555555556, \"#d8576b\"], [0.6666666666666666, \"#ed7953\"], [0.7777777777777778, \"#fb9f3a\"], [0.8888888888888888, \"#fdca26\"], [1.0, \"#f0f921\"]], \"type\": \"histogram2dcontour\"}], \"mesh3d\": [{\"colorbar\": {\"outlinewidth\": 0, \"ticks\": \"\"}, \"type\": \"mesh3d\"}], \"parcoords\": [{\"line\": {\"colorbar\": {\"outlinewidth\": 0, \"ticks\": \"\"}}, \"type\": \"parcoords\"}], \"scatter\": [{\"marker\": {\"colorbar\": {\"outlinewidth\": 0, \"ticks\": \"\"}}, \"type\": \"scatter\"}], \"scatter3d\": [{\"line\": {\"colorbar\": {\"outlinewidth\": 0, \"ticks\": \"\"}}, \"marker\": {\"colorbar\": {\"outlinewidth\": 0, \"ticks\": \"\"}}, \"type\": \"scatter3d\"}], \"scattercarpet\": [{\"marker\": {\"colorbar\": {\"outlinewidth\": 0, \"ticks\": \"\"}}, \"type\": \"scattercarpet\"}], \"scattergeo\": [{\"marker\": {\"colorbar\": {\"outlinewidth\": 0, \"ticks\": \"\"}}, \"type\": \"scattergeo\"}], \"scattergl\": [{\"marker\": {\"colorbar\": {\"outlinewidth\": 0, \"ticks\": \"\"}}, \"type\": \"scattergl\"}], \"scattermapbox\": [{\"marker\": {\"colorbar\": {\"outlinewidth\": 0, \"ticks\": \"\"}}, \"type\": \"scattermapbox\"}], \"scatterpolar\": [{\"marker\": {\"colorbar\": {\"outlinewidth\": 0, \"ticks\": \"\"}}, \"type\": \"scatterpolar\"}], \"scatterpolargl\": [{\"marker\": {\"colorbar\": {\"outlinewidth\": 0, \"ticks\": \"\"}}, \"type\": \"scatterpolargl\"}], \"scatterternary\": [{\"marker\": {\"colorbar\": {\"outlinewidth\": 0, \"ticks\": \"\"}}, \"type\": \"scatterternary\"}], \"surface\": [{\"colorbar\": {\"outlinewidth\": 0, \"ticks\": \"\"}, \"colorscale\": [[0.0, \"#0d0887\"], [0.1111111111111111, \"#46039f\"], [0.2222222222222222, \"#7201a8\"], [0.3333333333333333, \"#9c179e\"], [0.4444444444444444, \"#bd3786\"], [0.5555555555555556, \"#d8576b\"], [0.6666666666666666, \"#ed7953\"], [0.7777777777777778, \"#fb9f3a\"], [0.8888888888888888, \"#fdca26\"], [1.0, \"#f0f921\"]], \"type\": \"surface\"}], \"table\": [{\"cells\": {\"fill\": {\"color\": \"#EBF0F8\"}, \"line\": {\"color\": \"white\"}}, \"header\": {\"fill\": {\"color\": \"#C8D4E3\"}, \"line\": {\"color\": \"white\"}}, \"type\": \"table\"}]}, \"layout\": {\"annotationdefaults\": {\"arrowcolor\": \"#2a3f5f\", \"arrowhead\": 0, \"arrowwidth\": 1}, \"colorscale\": {\"diverging\": [[0, \"#8e0152\"], [0.1, \"#c51b7d\"], [0.2, \"#de77ae\"], [0.3, \"#f1b6da\"], [0.4, \"#fde0ef\"], [0.5, \"#f7f7f7\"], [0.6, \"#e6f5d0\"], [0.7, \"#b8e186\"], [0.8, \"#7fbc41\"], [0.9, \"#4d9221\"], [1, \"#276419\"]], \"sequential\": [[0.0, \"#0d0887\"], [0.1111111111111111, \"#46039f\"], [0.2222222222222222, \"#7201a8\"], [0.3333333333333333, \"#9c179e\"], [0.4444444444444444, \"#bd3786\"], [0.5555555555555556, \"#d8576b\"], [0.6666666666666666, \"#ed7953\"], [0.7777777777777778, \"#fb9f3a\"], [0.8888888888888888, \"#fdca26\"], [1.0, \"#f0f921\"]], \"sequentialminus\": [[0.0, \"#0d0887\"], [0.1111111111111111, \"#46039f\"], [0.2222222222222222, \"#7201a8\"], [0.3333333333333333, \"#9c179e\"], [0.4444444444444444, \"#bd3786\"], [0.5555555555555556, \"#d8576b\"], [0.6666666666666666, \"#ed7953\"], [0.7777777777777778, \"#fb9f3a\"], [0.8888888888888888, \"#fdca26\"], [1.0, \"#f0f921\"]]}, \"colorway\": [\"#636efa\", \"#EF553B\", \"#00cc96\", \"#ab63fa\", \"#FFA15A\", \"#19d3f3\", \"#FF6692\", \"#B6E880\", \"#FF97FF\", \"#FECB52\"], \"font\": {\"color\": \"#2a3f5f\"}, \"geo\": {\"bgcolor\": \"white\", \"lakecolor\": \"white\", \"landcolor\": \"#E5ECF6\", \"showlakes\": true, \"showland\": true, \"subunitcolor\": \"white\"}, \"hoverlabel\": {\"align\": \"left\"}, \"hovermode\": \"closest\", \"mapbox\": {\"style\": \"light\"}, \"paper_bgcolor\": \"white\", \"plot_bgcolor\": \"#E5ECF6\", \"polar\": {\"angularaxis\": {\"gridcolor\": \"white\", \"linecolor\": \"white\", \"ticks\": \"\"}, \"bgcolor\": \"#E5ECF6\", \"radialaxis\": {\"gridcolor\": \"white\", \"linecolor\": \"white\", \"ticks\": \"\"}}, \"scene\": {\"xaxis\": {\"backgroundcolor\": \"#E5ECF6\", \"gridcolor\": \"white\", \"gridwidth\": 2, \"linecolor\": \"white\", \"showbackground\": true, \"ticks\": \"\", \"zerolinecolor\": \"white\"}, \"yaxis\": {\"backgroundcolor\": \"#E5ECF6\", \"gridcolor\": \"white\", \"gridwidth\": 2, \"linecolor\": \"white\", \"showbackground\": true, \"ticks\": \"\", \"zerolinecolor\": \"white\"}, \"zaxis\": {\"backgroundcolor\": \"#E5ECF6\", \"gridcolor\": \"white\", \"gridwidth\": 2, \"linecolor\": \"white\", \"showbackground\": true, \"ticks\": \"\", \"zerolinecolor\": \"white\"}}, \"shapedefaults\": {\"line\": {\"color\": \"#2a3f5f\"}}, \"ternary\": {\"aaxis\": {\"gridcolor\": \"white\", \"linecolor\": \"white\", \"ticks\": \"\"}, \"baxis\": {\"gridcolor\": \"white\", \"linecolor\": \"white\", \"ticks\": \"\"}, \"bgcolor\": \"#E5ECF6\", \"caxis\": {\"gridcolor\": \"white\", \"linecolor\": \"white\", \"ticks\": \"\"}}, \"title\": {\"x\": 0.05}, \"xaxis\": {\"automargin\": true, \"gridcolor\": \"white\", \"linecolor\": \"white\", \"ticks\": \"\", \"zerolinecolor\": \"white\", \"zerolinewidth\": 2}, \"yaxis\": {\"automargin\": true, \"gridcolor\": \"white\", \"linecolor\": \"white\", \"ticks\": \"\", \"zerolinecolor\": \"white\", \"zerolinewidth\": 2}}}},\n",
       "                        {\"responsive\": true}\n",
       "                    ).then(function(){\n",
       "                            \n",
       "var gd = document.getElementById('0769b4a0-edaa-4ff8-a010-c653ddb2f976');\n",
       "var x = new MutationObserver(function (mutations, observer) {{\n",
       "        var display = window.getComputedStyle(gd).display;\n",
       "        if (!display || display === 'none') {{\n",
       "            console.log([gd, 'removed!']);\n",
       "            Plotly.purge(gd);\n",
       "            observer.disconnect();\n",
       "        }}\n",
       "}});\n",
       "\n",
       "// Listen for the removal of the full notebook cells\n",
       "var notebookContainer = gd.closest('#notebook-container');\n",
       "if (notebookContainer) {{\n",
       "    x.observe(notebookContainer, {childList: true});\n",
       "}}\n",
       "\n",
       "// Listen for the clearing of the current output cell\n",
       "var outputEl = gd.closest('.output');\n",
       "if (outputEl) {{\n",
       "    x.observe(outputEl, {childList: true});\n",
       "}}\n",
       "\n",
       "                        })\n",
       "                };\n",
       "                });\n",
       "            </script>\n",
       "        </div>"
      ]
     },
     "metadata": {},
     "output_type": "display_data"
    }
   ],
   "source": [
    "import plotly.graph_objects as go\n",
    "\n",
    "categories = ['danceability','speechiness','acousticness', 'instrumentalness',\n",
    "           'liveness', 'valence', 'energy']\n",
    "\n",
    "fig = go.Figure()\n",
    "\n",
    "fig.add_trace(go.Scatterpolar(\n",
    "      r=get_means('Mexico'),\n",
    "      theta=categories,\n",
    "      fill='toself', fillcolor= 'rgba(93, 164, 214, 0.5)', line=dict(width=1, color='rgb(127, 166, 238)'),\n",
    "      name='Mexico'\n",
    "))\n",
    "fig.add_trace(go.Scatterpolar(\n",
    "      r=get_means('Taiwan'),\n",
    "      theta=categories,\n",
    "      fill='toself',fillcolor ='rgba(255, 144, 14, 0.5)', line=dict(width=1, color='rgb(127, 166, 238)'),\n",
    "      name='Taiwan',\n",
    "))\n",
    "\n",
    "fig.update_layout(\n",
    "  polar=dict(\n",
    "    radialaxis=dict(\n",
    "      visible=True,\n",
    "      range=[0, 1]\n",
    "    )),\n",
    "  showlegend=True\n",
    ")\n",
    "\n",
    "fig.show(renderer=\"notebook_connected\")"
   ]
  },
  {
   "cell_type": "markdown",
   "metadata": {},
   "source": [
    "Here we are comparing the audio features of the most played songs in Mexico and Taiwan. We can see that on average the most played songs in Mexico are more danceable, with higher energy and have a higher valence.Taiwan's most played songs are higher on acousticness and are similar on liveness."
   ]
  },
  {
   "cell_type": "code",
   "execution_count": 25,
   "metadata": {},
   "outputs": [
    {
     "data": {
      "text/html": [
       "        <script type=\"text/javascript\">\n",
       "        window.PlotlyConfig = {MathJaxConfig: 'local'};\n",
       "        if (window.MathJax) {MathJax.Hub.Config({SVG: {font: \"STIX-Web\"}});}\n",
       "        if (typeof require !== 'undefined') {\n",
       "        require.undef(\"plotly\");\n",
       "        requirejs.config({\n",
       "            paths: {\n",
       "                'plotly': ['https://cdn.plot.ly/plotly-latest.min']\n",
       "            }\n",
       "        });\n",
       "        require(['plotly'], function(Plotly) {\n",
       "            window._Plotly = Plotly;\n",
       "        });\n",
       "        }\n",
       "        </script>\n",
       "        "
      ]
     },
     "metadata": {},
     "output_type": "display_data"
    },
    {
     "data": {
      "text/html": [
       "<div>\n",
       "        \n",
       "        \n",
       "            <div id=\"fea228fb-9da6-4c8d-bc61-db661597614c\" class=\"plotly-graph-div\" style=\"height:525px; width:100%;\"></div>\n",
       "            <script type=\"text/javascript\">\n",
       "                require([\"plotly\"], function(Plotly) {\n",
       "                    window.PLOTLYENV=window.PLOTLYENV || {};\n",
       "                    \n",
       "                if (document.getElementById(\"fea228fb-9da6-4c8d-bc61-db661597614c\")) {\n",
       "                    Plotly.newPlot(\n",
       "                        'fea228fb-9da6-4c8d-bc61-db661597614c',\n",
       "                        [{\"fill\": \"toself\", \"fillcolor\": \"rgba(46, 252, 222, .45)\", \"line\": {\"color\": \"rgb(127, 166, 238)\", \"width\": 1}, \"name\": \"Spain\", \"r\": [0.7562400000000001, 0.15037199999999995, 0.23239660000000004, 0.0105117742, 0.174184, 0.6489600000000002, 0.7018600000000003], \"theta\": [\"danceability\", \"speechiness\", \"acousticness\", \"instrumentalness\", \"liveness\", \"valence\", \"energy\"], \"type\": \"scatterpolar\"}, {\"fill\": \"toself\", \"fillcolor\": \"rgba(252, 146, 162, .6)\", \"line\": {\"color\": \"rgb(127, 166, 238)\", \"width\": 1}, \"name\": \"United States\", \"r\": [0.7193200000000001, 0.17226799999999998, 0.19854, 0.0026978970000000003, 0.14646999999999996, 0.4831300000000001, 0.5980800000000001], \"theta\": [\"danceability\", \"speechiness\", \"acousticness\", \"instrumentalness\", \"liveness\", \"valence\", \"energy\"], \"type\": \"scatterpolar\"}],\n",
       "                        {\"polar\": {\"radialaxis\": {\"range\": [0, 1], \"visible\": true}}, \"showlegend\": true, \"template\": {\"data\": {\"bar\": [{\"error_x\": {\"color\": \"#2a3f5f\"}, \"error_y\": {\"color\": \"#2a3f5f\"}, \"marker\": {\"line\": {\"color\": \"#E5ECF6\", \"width\": 0.5}}, \"type\": \"bar\"}], \"barpolar\": [{\"marker\": {\"line\": {\"color\": \"#E5ECF6\", \"width\": 0.5}}, \"type\": \"barpolar\"}], \"carpet\": [{\"aaxis\": {\"endlinecolor\": \"#2a3f5f\", \"gridcolor\": \"white\", \"linecolor\": \"white\", \"minorgridcolor\": \"white\", \"startlinecolor\": \"#2a3f5f\"}, \"baxis\": {\"endlinecolor\": \"#2a3f5f\", \"gridcolor\": \"white\", \"linecolor\": \"white\", \"minorgridcolor\": \"white\", \"startlinecolor\": \"#2a3f5f\"}, \"type\": \"carpet\"}], \"choropleth\": [{\"colorbar\": {\"outlinewidth\": 0, \"ticks\": \"\"}, \"type\": \"choropleth\"}], \"contour\": [{\"colorbar\": {\"outlinewidth\": 0, \"ticks\": \"\"}, \"colorscale\": [[0.0, \"#0d0887\"], [0.1111111111111111, \"#46039f\"], [0.2222222222222222, \"#7201a8\"], [0.3333333333333333, \"#9c179e\"], [0.4444444444444444, \"#bd3786\"], [0.5555555555555556, \"#d8576b\"], [0.6666666666666666, \"#ed7953\"], [0.7777777777777778, \"#fb9f3a\"], [0.8888888888888888, \"#fdca26\"], [1.0, \"#f0f921\"]], \"type\": \"contour\"}], \"contourcarpet\": [{\"colorbar\": {\"outlinewidth\": 0, \"ticks\": \"\"}, \"type\": \"contourcarpet\"}], \"heatmap\": [{\"colorbar\": {\"outlinewidth\": 0, \"ticks\": \"\"}, \"colorscale\": [[0.0, \"#0d0887\"], [0.1111111111111111, \"#46039f\"], [0.2222222222222222, \"#7201a8\"], [0.3333333333333333, \"#9c179e\"], [0.4444444444444444, \"#bd3786\"], [0.5555555555555556, \"#d8576b\"], [0.6666666666666666, \"#ed7953\"], [0.7777777777777778, \"#fb9f3a\"], [0.8888888888888888, \"#fdca26\"], [1.0, \"#f0f921\"]], \"type\": \"heatmap\"}], \"heatmapgl\": [{\"colorbar\": {\"outlinewidth\": 0, \"ticks\": \"\"}, \"colorscale\": [[0.0, \"#0d0887\"], [0.1111111111111111, \"#46039f\"], [0.2222222222222222, \"#7201a8\"], [0.3333333333333333, \"#9c179e\"], [0.4444444444444444, \"#bd3786\"], [0.5555555555555556, \"#d8576b\"], [0.6666666666666666, \"#ed7953\"], [0.7777777777777778, \"#fb9f3a\"], [0.8888888888888888, \"#fdca26\"], [1.0, \"#f0f921\"]], \"type\": \"heatmapgl\"}], \"histogram\": [{\"marker\": {\"colorbar\": {\"outlinewidth\": 0, \"ticks\": \"\"}}, \"type\": \"histogram\"}], \"histogram2d\": [{\"colorbar\": {\"outlinewidth\": 0, \"ticks\": \"\"}, \"colorscale\": [[0.0, \"#0d0887\"], [0.1111111111111111, \"#46039f\"], [0.2222222222222222, \"#7201a8\"], [0.3333333333333333, \"#9c179e\"], [0.4444444444444444, \"#bd3786\"], [0.5555555555555556, \"#d8576b\"], [0.6666666666666666, \"#ed7953\"], [0.7777777777777778, \"#fb9f3a\"], [0.8888888888888888, \"#fdca26\"], [1.0, \"#f0f921\"]], \"type\": \"histogram2d\"}], \"histogram2dcontour\": [{\"colorbar\": {\"outlinewidth\": 0, \"ticks\": \"\"}, \"colorscale\": [[0.0, \"#0d0887\"], [0.1111111111111111, \"#46039f\"], [0.2222222222222222, \"#7201a8\"], [0.3333333333333333, \"#9c179e\"], [0.4444444444444444, \"#bd3786\"], [0.5555555555555556, \"#d8576b\"], [0.6666666666666666, \"#ed7953\"], [0.7777777777777778, \"#fb9f3a\"], [0.8888888888888888, \"#fdca26\"], [1.0, \"#f0f921\"]], \"type\": \"histogram2dcontour\"}], \"mesh3d\": [{\"colorbar\": {\"outlinewidth\": 0, \"ticks\": \"\"}, \"type\": \"mesh3d\"}], \"parcoords\": [{\"line\": {\"colorbar\": {\"outlinewidth\": 0, \"ticks\": \"\"}}, \"type\": \"parcoords\"}], \"scatter\": [{\"marker\": {\"colorbar\": {\"outlinewidth\": 0, \"ticks\": \"\"}}, \"type\": \"scatter\"}], \"scatter3d\": [{\"line\": {\"colorbar\": {\"outlinewidth\": 0, \"ticks\": \"\"}}, \"marker\": {\"colorbar\": {\"outlinewidth\": 0, \"ticks\": \"\"}}, \"type\": \"scatter3d\"}], \"scattercarpet\": [{\"marker\": {\"colorbar\": {\"outlinewidth\": 0, \"ticks\": \"\"}}, \"type\": \"scattercarpet\"}], \"scattergeo\": [{\"marker\": {\"colorbar\": {\"outlinewidth\": 0, \"ticks\": \"\"}}, \"type\": \"scattergeo\"}], \"scattergl\": [{\"marker\": {\"colorbar\": {\"outlinewidth\": 0, \"ticks\": \"\"}}, \"type\": \"scattergl\"}], \"scattermapbox\": [{\"marker\": {\"colorbar\": {\"outlinewidth\": 0, \"ticks\": \"\"}}, \"type\": \"scattermapbox\"}], \"scatterpolar\": [{\"marker\": {\"colorbar\": {\"outlinewidth\": 0, \"ticks\": \"\"}}, \"type\": \"scatterpolar\"}], \"scatterpolargl\": [{\"marker\": {\"colorbar\": {\"outlinewidth\": 0, \"ticks\": \"\"}}, \"type\": \"scatterpolargl\"}], \"scatterternary\": [{\"marker\": {\"colorbar\": {\"outlinewidth\": 0, \"ticks\": \"\"}}, \"type\": \"scatterternary\"}], \"surface\": [{\"colorbar\": {\"outlinewidth\": 0, \"ticks\": \"\"}, \"colorscale\": [[0.0, \"#0d0887\"], [0.1111111111111111, \"#46039f\"], [0.2222222222222222, \"#7201a8\"], [0.3333333333333333, \"#9c179e\"], [0.4444444444444444, \"#bd3786\"], [0.5555555555555556, \"#d8576b\"], [0.6666666666666666, \"#ed7953\"], [0.7777777777777778, \"#fb9f3a\"], [0.8888888888888888, \"#fdca26\"], [1.0, \"#f0f921\"]], \"type\": \"surface\"}], \"table\": [{\"cells\": {\"fill\": {\"color\": \"#EBF0F8\"}, \"line\": {\"color\": \"white\"}}, \"header\": {\"fill\": {\"color\": \"#C8D4E3\"}, \"line\": {\"color\": \"white\"}}, \"type\": \"table\"}]}, \"layout\": {\"annotationdefaults\": {\"arrowcolor\": \"#2a3f5f\", \"arrowhead\": 0, \"arrowwidth\": 1}, \"colorscale\": {\"diverging\": [[0, \"#8e0152\"], [0.1, \"#c51b7d\"], [0.2, \"#de77ae\"], [0.3, \"#f1b6da\"], [0.4, \"#fde0ef\"], [0.5, \"#f7f7f7\"], [0.6, \"#e6f5d0\"], [0.7, \"#b8e186\"], [0.8, \"#7fbc41\"], [0.9, \"#4d9221\"], [1, \"#276419\"]], \"sequential\": [[0.0, \"#0d0887\"], [0.1111111111111111, \"#46039f\"], [0.2222222222222222, \"#7201a8\"], [0.3333333333333333, \"#9c179e\"], [0.4444444444444444, \"#bd3786\"], [0.5555555555555556, \"#d8576b\"], [0.6666666666666666, \"#ed7953\"], [0.7777777777777778, \"#fb9f3a\"], [0.8888888888888888, \"#fdca26\"], [1.0, \"#f0f921\"]], \"sequentialminus\": [[0.0, \"#0d0887\"], [0.1111111111111111, \"#46039f\"], [0.2222222222222222, \"#7201a8\"], [0.3333333333333333, \"#9c179e\"], [0.4444444444444444, \"#bd3786\"], [0.5555555555555556, \"#d8576b\"], [0.6666666666666666, \"#ed7953\"], [0.7777777777777778, \"#fb9f3a\"], [0.8888888888888888, \"#fdca26\"], [1.0, \"#f0f921\"]]}, \"colorway\": [\"#636efa\", \"#EF553B\", \"#00cc96\", \"#ab63fa\", \"#FFA15A\", \"#19d3f3\", \"#FF6692\", \"#B6E880\", \"#FF97FF\", \"#FECB52\"], \"font\": {\"color\": \"#2a3f5f\"}, \"geo\": {\"bgcolor\": \"white\", \"lakecolor\": \"white\", \"landcolor\": \"#E5ECF6\", \"showlakes\": true, \"showland\": true, \"subunitcolor\": \"white\"}, \"hoverlabel\": {\"align\": \"left\"}, \"hovermode\": \"closest\", \"mapbox\": {\"style\": \"light\"}, \"paper_bgcolor\": \"white\", \"plot_bgcolor\": \"#E5ECF6\", \"polar\": {\"angularaxis\": {\"gridcolor\": \"white\", \"linecolor\": \"white\", \"ticks\": \"\"}, \"bgcolor\": \"#E5ECF6\", \"radialaxis\": {\"gridcolor\": \"white\", \"linecolor\": \"white\", \"ticks\": \"\"}}, \"scene\": {\"xaxis\": {\"backgroundcolor\": \"#E5ECF6\", \"gridcolor\": \"white\", \"gridwidth\": 2, \"linecolor\": \"white\", \"showbackground\": true, \"ticks\": \"\", \"zerolinecolor\": \"white\"}, \"yaxis\": {\"backgroundcolor\": \"#E5ECF6\", \"gridcolor\": \"white\", \"gridwidth\": 2, \"linecolor\": \"white\", \"showbackground\": true, \"ticks\": \"\", \"zerolinecolor\": \"white\"}, \"zaxis\": {\"backgroundcolor\": \"#E5ECF6\", \"gridcolor\": \"white\", \"gridwidth\": 2, \"linecolor\": \"white\", \"showbackground\": true, \"ticks\": \"\", \"zerolinecolor\": \"white\"}}, \"shapedefaults\": {\"line\": {\"color\": \"#2a3f5f\"}}, \"ternary\": {\"aaxis\": {\"gridcolor\": \"white\", \"linecolor\": \"white\", \"ticks\": \"\"}, \"baxis\": {\"gridcolor\": \"white\", \"linecolor\": \"white\", \"ticks\": \"\"}, \"bgcolor\": \"#E5ECF6\", \"caxis\": {\"gridcolor\": \"white\", \"linecolor\": \"white\", \"ticks\": \"\"}}, \"title\": {\"x\": 0.05}, \"xaxis\": {\"automargin\": true, \"gridcolor\": \"white\", \"linecolor\": \"white\", \"ticks\": \"\", \"zerolinecolor\": \"white\", \"zerolinewidth\": 2}, \"yaxis\": {\"automargin\": true, \"gridcolor\": \"white\", \"linecolor\": \"white\", \"ticks\": \"\", \"zerolinecolor\": \"white\", \"zerolinewidth\": 2}}}},\n",
       "                        {\"responsive\": true}\n",
       "                    ).then(function(){\n",
       "                            \n",
       "var gd = document.getElementById('fea228fb-9da6-4c8d-bc61-db661597614c');\n",
       "var x = new MutationObserver(function (mutations, observer) {{\n",
       "        var display = window.getComputedStyle(gd).display;\n",
       "        if (!display || display === 'none') {{\n",
       "            console.log([gd, 'removed!']);\n",
       "            Plotly.purge(gd);\n",
       "            observer.disconnect();\n",
       "        }}\n",
       "}});\n",
       "\n",
       "// Listen for the removal of the full notebook cells\n",
       "var notebookContainer = gd.closest('#notebook-container');\n",
       "if (notebookContainer) {{\n",
       "    x.observe(notebookContainer, {childList: true});\n",
       "}}\n",
       "\n",
       "// Listen for the clearing of the current output cell\n",
       "var outputEl = gd.closest('.output');\n",
       "if (outputEl) {{\n",
       "    x.observe(outputEl, {childList: true});\n",
       "}}\n",
       "\n",
       "                        })\n",
       "                };\n",
       "                });\n",
       "            </script>\n",
       "        </div>"
      ]
     },
     "metadata": {},
     "output_type": "display_data"
    }
   ],
   "source": [
    "import plotly.graph_objects as go\n",
    "\n",
    "categories = ['danceability','speechiness','acousticness', 'instrumentalness',\n",
    "           'liveness', 'valence', 'energy']\n",
    "\n",
    "fig = go.Figure()\n",
    "\n",
    "fig.add_trace(go.Scatterpolar(\n",
    "      r=get_means('Spain'),\n",
    "      theta=categories,\n",
    "      fill='toself', fillcolor= 'rgba(46, 252, 222, .45)', line=dict(width=1, color='rgb(127, 166, 238)'),\n",
    "      name='Spain'\n",
    "))\n",
    "fig.add_trace(go.Scatterpolar(\n",
    "      r=get_means('United States'),\n",
    "      theta=categories,\n",
    "      fill='toself',fillcolor ='rgba(252, 146, 162, .6)', line=dict(width=1, color='rgb(127, 166, 238)'),\n",
    "      name='United States',\n",
    "))\n",
    "\n",
    "fig.update_layout(\n",
    "  polar=dict(\n",
    "    radialaxis=dict(\n",
    "      visible=True,\n",
    "      range=[0, 1]\n",
    "    )),\n",
    "  showlegend=True\n",
    ")\n",
    "\n",
    "fig.show(renderer=\"notebook_connected\")"
   ]
  },
  {
   "cell_type": "code",
   "execution_count": 26,
   "metadata": {},
   "outputs": [
    {
     "data": {
      "text/html": [
       "        <script type=\"text/javascript\">\n",
       "        window.PlotlyConfig = {MathJaxConfig: 'local'};\n",
       "        if (window.MathJax) {MathJax.Hub.Config({SVG: {font: \"STIX-Web\"}});}\n",
       "        if (typeof require !== 'undefined') {\n",
       "        require.undef(\"plotly\");\n",
       "        requirejs.config({\n",
       "            paths: {\n",
       "                'plotly': ['https://cdn.plot.ly/plotly-latest.min']\n",
       "            }\n",
       "        });\n",
       "        require(['plotly'], function(Plotly) {\n",
       "            window._Plotly = Plotly;\n",
       "        });\n",
       "        }\n",
       "        </script>\n",
       "        "
      ]
     },
     "metadata": {},
     "output_type": "display_data"
    },
    {
     "data": {
      "text/html": [
       "<div>\n",
       "        \n",
       "        \n",
       "            <div id=\"c39cf882-50b1-44da-aec6-1263229e01a0\" class=\"plotly-graph-div\" style=\"height:525px; width:100%;\"></div>\n",
       "            <script type=\"text/javascript\">\n",
       "                require([\"plotly\"], function(Plotly) {\n",
       "                    window.PLOTLYENV=window.PLOTLYENV || {};\n",
       "                    \n",
       "                if (document.getElementById(\"c39cf882-50b1-44da-aec6-1263229e01a0\")) {\n",
       "                    Plotly.newPlot(\n",
       "                        'c39cf882-50b1-44da-aec6-1263229e01a0',\n",
       "                        [{\"boxpoints\": \"all\", \"fillcolor\": \"rgba(93, 164, 214, 0.5)\", \"jitter\": 0.5, \"line\": {\"width\": 1}, \"marker\": {\"size\": 2}, \"name\": \"Mexico\", \"type\": \"box\", \"whiskerwidth\": 0.2, \"y\": [0.609, 0.429, 0.94, 0.244, 0.58, 0.52, 0.68, 0.637, 0.623, 0.579, 0.8, 0.746, 0.749, 0.939, 0.96, 0.689, 0.896, 0.62, 0.371, 0.876, 0.811, 0.853, 0.54, 0.763, 0.858, 0.496, 0.741, 0.909, 0.189, 0.677, 0.709, 0.675, 0.556, 0.618, 0.706, 0.816, 0.788, 0.689, 0.522, 0.554, 0.85, 0.646, 0.345, 0.654, 0.761, 0.656, 0.727, 0.553, 0.709, 0.844]}, {\"boxpoints\": \"all\", \"fillcolor\": \"rgba(255, 65, 54, 0.5)\", \"jitter\": 0.5, \"line\": {\"width\": 1}, \"marker\": {\"size\": 2}, \"name\": \"Colombia\", \"type\": \"box\", \"whiskerwidth\": 0.2, \"y\": [0.609, 0.623, 0.429, 0.94, 0.244, 0.58, 0.896, 0.677, 0.858, 0.939, 0.554, 0.478, 0.579, 0.8, 0.788, 0.68, 0.773, 0.763, 0.749, 0.774, 0.586, 0.746, 0.483, 0.667, 0.813, 0.675, 0.687, 0.718, 0.371, 0.695, 0.637, 0.805, 0.797, 0.62, 0.463, 0.553, 0.727, 0.706, 0.831, 0.741, 0.76, 0.623, 0.761, 0.88, 0.765, 0.85, 0.513, 0.692, 0.522, 0.388]}, {\"boxpoints\": \"all\", \"fillcolor\": \"rgba(255, 144, 14, 0.5)\", \"jitter\": 0.5, \"line\": {\"width\": 1}, \"marker\": {\"size\": 2}, \"name\": \"United States\", \"type\": \"box\", \"whiskerwidth\": 0.2, \"y\": [0.0605, 0.281, 0.553, 0.425, 0.43, 0.412, 0.712, 0.226, 0.678, 0.559, 0.762, 0.446, 0.925, 0.475, 0.175, 0.137, 0.101, 0.272, 0.295, 0.575, 0.777, 0.836, 0.321, 0.535, 0.667, 0.844, 0.562, 0.749, 0.548, 0.46, 0.54, 0.206, 0.496, 0.345, 0.962, 0.187, 0.745, 0.261, 0.388, 0.892, 0.186, 0.17, 0.496, 0.244, 0.629, 0.463, 0.574, 0.45, 0.672, 0.452]}, {\"boxpoints\": \"all\", \"fillcolor\": \"rgba(44, 160, 101, 0.5)\", \"jitter\": 0.5, \"line\": {\"width\": 1}, \"marker\": {\"size\": 2}, \"name\": \"Turkey\", \"type\": \"box\", \"whiskerwidth\": 0.2, \"y\": [0.694, 0.337, 0.189, 0.434, 0.537, 0.129, 0.298, 0.533, 0.607, 0.346, 0.496, 0.566, 0.642, 0.749, 0.466, 0.142, 0.408, 0.349, 0.335, 0.54, 0.0605, 0.653, 0.463, 0.387, 0.591, 0.544, 0.336, 0.778, 0.146, 0.589, 0.699, 0.356, 0.562, 0.105, 0.559, 0.507, 0.0713, 0.756, 0.303, 0.692, 0.305, 0.818, 0.543, 0.677, 0.304, 0.439, 0.542, 0.459, 0.259, 0.45]}, {\"boxpoints\": \"all\", \"fillcolor\": \"rgba(127, 96, 0, 0.5)\", \"jitter\": 0.5, \"line\": {\"width\": 1}, \"marker\": {\"size\": 2}, \"name\": \"Spain\", \"type\": \"box\", \"whiskerwidth\": 0.2, \"y\": [0.609, 0.579, 0.623, 0.438, 0.718, 0.788, 0.753, 0.889, 0.554, 0.547, 0.62, 0.94, 0.831, 0.896, 0.244, 0.58, 0.896, 0.763, 0.677, 0.46, 0.608, 0.429, 0.659, 0.408, 0.709, 0.851, 0.54, 0.416, 0.858, 0.749, 0.8, 0.549, 0.195, 0.786, 0.741, 0.872, 0.622, 0.378, 0.68, 0.478, 0.939, 0.774, 0.701, 0.746, 0.473, 0.556, 0.371, 0.579, 0.879, 0.697]}, {\"boxpoints\": \"all\", \"fillcolor\": \"rgba(200, 124, 80, 0.5)\", \"jitter\": 0.5, \"line\": {\"width\": 1}, \"marker\": {\"size\": 2}, \"name\": \"Taiwan\", \"type\": \"box\", \"whiskerwidth\": 0.2, \"y\": [0.343, 0.286, 0.575, 0.749, 0.43, 0.436, 0.553, 0.548, 0.37, 0.457, 0.162, 0.263, 0.475, 0.736, 0.289, 0.148, 0.332, 0.54, 0.345, 0.292, 0.585, 0.425, 0.227, 0.644, 0.269, 0.446, 0.562, 0.293, 0.287, 0.204, 0.357, 0.161, 0.652, 0.157, 0.187, 0.574, 0.317, 0.246, 0.678, 0.39, 0.52, 0.484, 0.382, 0.746, 0.0605, 0.375, 0.842, 0.358, 0.58, 0.205]}, {\"boxpoints\": \"all\", \"fillcolor\": \"rgba(150, 170, 220, 0.5)\", \"jitter\": 0.5, \"line\": {\"width\": 1}, \"marker\": {\"size\": 2}, \"name\": \"Egypt\", \"type\": \"box\", \"whiskerwidth\": 0.2, \"y\": [0.883, 0.878, 0.269, 0.622, 0.377, 0.333, 0.771, 0.613, 0.965, 0.483, 0.42, 0.536, 0.768, 0.749, 0.724, 0.81, 0.7, 0.652, 0.73, 0.325, 0.769, 0.589, 0.971, 0.101, 0.671, 0.656, 0.439, 0.96, 0.861, 0.524, 0.761, 0.938, 0.962, 0.85, 0.152, 0.504, 0.955, 0.592, 0.621, 0.514, 0.541, 0.82, 0.748, 0.943, 0.632, 0.335, 0.797, 0.841, 0.442, 0.947, 0.776, 0.298, 0.949, 0.648, 0.693, 0.64, 0.72, 0.744, 0.528, 0.849, 0.592, 0.769]}],\n",
       "                        {\"template\": {\"data\": {\"bar\": [{\"error_x\": {\"color\": \"#2a3f5f\"}, \"error_y\": {\"color\": \"#2a3f5f\"}, \"marker\": {\"line\": {\"color\": \"#E5ECF6\", \"width\": 0.5}}, \"type\": \"bar\"}], \"barpolar\": [{\"marker\": {\"line\": {\"color\": \"#E5ECF6\", \"width\": 0.5}}, \"type\": \"barpolar\"}], \"carpet\": [{\"aaxis\": {\"endlinecolor\": \"#2a3f5f\", \"gridcolor\": \"white\", \"linecolor\": \"white\", \"minorgridcolor\": \"white\", \"startlinecolor\": \"#2a3f5f\"}, \"baxis\": {\"endlinecolor\": \"#2a3f5f\", \"gridcolor\": \"white\", \"linecolor\": \"white\", \"minorgridcolor\": \"white\", \"startlinecolor\": \"#2a3f5f\"}, \"type\": \"carpet\"}], \"choropleth\": [{\"colorbar\": {\"outlinewidth\": 0, \"ticks\": \"\"}, \"type\": \"choropleth\"}], \"contour\": [{\"colorbar\": {\"outlinewidth\": 0, \"ticks\": \"\"}, \"colorscale\": [[0.0, \"#0d0887\"], [0.1111111111111111, \"#46039f\"], [0.2222222222222222, \"#7201a8\"], [0.3333333333333333, \"#9c179e\"], [0.4444444444444444, \"#bd3786\"], [0.5555555555555556, \"#d8576b\"], [0.6666666666666666, \"#ed7953\"], [0.7777777777777778, \"#fb9f3a\"], [0.8888888888888888, \"#fdca26\"], [1.0, \"#f0f921\"]], \"type\": \"contour\"}], \"contourcarpet\": [{\"colorbar\": {\"outlinewidth\": 0, \"ticks\": \"\"}, \"type\": \"contourcarpet\"}], \"heatmap\": [{\"colorbar\": {\"outlinewidth\": 0, \"ticks\": \"\"}, \"colorscale\": [[0.0, \"#0d0887\"], [0.1111111111111111, \"#46039f\"], [0.2222222222222222, \"#7201a8\"], [0.3333333333333333, \"#9c179e\"], [0.4444444444444444, \"#bd3786\"], [0.5555555555555556, \"#d8576b\"], [0.6666666666666666, \"#ed7953\"], [0.7777777777777778, \"#fb9f3a\"], [0.8888888888888888, \"#fdca26\"], [1.0, \"#f0f921\"]], \"type\": \"heatmap\"}], \"heatmapgl\": [{\"colorbar\": {\"outlinewidth\": 0, \"ticks\": \"\"}, \"colorscale\": [[0.0, \"#0d0887\"], [0.1111111111111111, \"#46039f\"], [0.2222222222222222, \"#7201a8\"], [0.3333333333333333, \"#9c179e\"], [0.4444444444444444, \"#bd3786\"], [0.5555555555555556, \"#d8576b\"], [0.6666666666666666, \"#ed7953\"], [0.7777777777777778, \"#fb9f3a\"], [0.8888888888888888, \"#fdca26\"], [1.0, \"#f0f921\"]], \"type\": \"heatmapgl\"}], \"histogram\": [{\"marker\": {\"colorbar\": {\"outlinewidth\": 0, \"ticks\": \"\"}}, \"type\": \"histogram\"}], \"histogram2d\": [{\"colorbar\": {\"outlinewidth\": 0, \"ticks\": \"\"}, \"colorscale\": [[0.0, \"#0d0887\"], [0.1111111111111111, \"#46039f\"], [0.2222222222222222, \"#7201a8\"], [0.3333333333333333, \"#9c179e\"], [0.4444444444444444, \"#bd3786\"], [0.5555555555555556, \"#d8576b\"], [0.6666666666666666, \"#ed7953\"], [0.7777777777777778, \"#fb9f3a\"], [0.8888888888888888, \"#fdca26\"], [1.0, \"#f0f921\"]], \"type\": \"histogram2d\"}], \"histogram2dcontour\": [{\"colorbar\": {\"outlinewidth\": 0, \"ticks\": \"\"}, \"colorscale\": [[0.0, \"#0d0887\"], [0.1111111111111111, \"#46039f\"], [0.2222222222222222, \"#7201a8\"], [0.3333333333333333, \"#9c179e\"], [0.4444444444444444, \"#bd3786\"], [0.5555555555555556, \"#d8576b\"], [0.6666666666666666, \"#ed7953\"], [0.7777777777777778, \"#fb9f3a\"], [0.8888888888888888, \"#fdca26\"], [1.0, \"#f0f921\"]], \"type\": \"histogram2dcontour\"}], \"mesh3d\": [{\"colorbar\": {\"outlinewidth\": 0, \"ticks\": \"\"}, \"type\": \"mesh3d\"}], \"parcoords\": [{\"line\": {\"colorbar\": {\"outlinewidth\": 0, \"ticks\": \"\"}}, \"type\": \"parcoords\"}], \"scatter\": [{\"marker\": {\"colorbar\": {\"outlinewidth\": 0, \"ticks\": \"\"}}, \"type\": \"scatter\"}], \"scatter3d\": [{\"line\": {\"colorbar\": {\"outlinewidth\": 0, \"ticks\": \"\"}}, \"marker\": {\"colorbar\": {\"outlinewidth\": 0, \"ticks\": \"\"}}, \"type\": \"scatter3d\"}], \"scattercarpet\": [{\"marker\": {\"colorbar\": {\"outlinewidth\": 0, \"ticks\": \"\"}}, \"type\": \"scattercarpet\"}], \"scattergeo\": [{\"marker\": {\"colorbar\": {\"outlinewidth\": 0, \"ticks\": \"\"}}, \"type\": \"scattergeo\"}], \"scattergl\": [{\"marker\": {\"colorbar\": {\"outlinewidth\": 0, \"ticks\": \"\"}}, \"type\": \"scattergl\"}], \"scattermapbox\": [{\"marker\": {\"colorbar\": {\"outlinewidth\": 0, \"ticks\": \"\"}}, \"type\": \"scattermapbox\"}], \"scatterpolar\": [{\"marker\": {\"colorbar\": {\"outlinewidth\": 0, \"ticks\": \"\"}}, \"type\": \"scatterpolar\"}], \"scatterpolargl\": [{\"marker\": {\"colorbar\": {\"outlinewidth\": 0, \"ticks\": \"\"}}, \"type\": \"scatterpolargl\"}], \"scatterternary\": [{\"marker\": {\"colorbar\": {\"outlinewidth\": 0, \"ticks\": \"\"}}, \"type\": \"scatterternary\"}], \"surface\": [{\"colorbar\": {\"outlinewidth\": 0, \"ticks\": \"\"}, \"colorscale\": [[0.0, \"#0d0887\"], [0.1111111111111111, \"#46039f\"], [0.2222222222222222, \"#7201a8\"], [0.3333333333333333, \"#9c179e\"], [0.4444444444444444, \"#bd3786\"], [0.5555555555555556, \"#d8576b\"], [0.6666666666666666, \"#ed7953\"], [0.7777777777777778, \"#fb9f3a\"], [0.8888888888888888, \"#fdca26\"], [1.0, \"#f0f921\"]], \"type\": \"surface\"}], \"table\": [{\"cells\": {\"fill\": {\"color\": \"#EBF0F8\"}, \"line\": {\"color\": \"white\"}}, \"header\": {\"fill\": {\"color\": \"#C8D4E3\"}, \"line\": {\"color\": \"white\"}}, \"type\": \"table\"}]}, \"layout\": {\"annotationdefaults\": {\"arrowcolor\": \"#2a3f5f\", \"arrowhead\": 0, \"arrowwidth\": 1}, \"colorscale\": {\"diverging\": [[0, \"#8e0152\"], [0.1, \"#c51b7d\"], [0.2, \"#de77ae\"], [0.3, \"#f1b6da\"], [0.4, \"#fde0ef\"], [0.5, \"#f7f7f7\"], [0.6, \"#e6f5d0\"], [0.7, \"#b8e186\"], [0.8, \"#7fbc41\"], [0.9, \"#4d9221\"], [1, \"#276419\"]], \"sequential\": [[0.0, \"#0d0887\"], [0.1111111111111111, \"#46039f\"], [0.2222222222222222, \"#7201a8\"], [0.3333333333333333, \"#9c179e\"], [0.4444444444444444, \"#bd3786\"], [0.5555555555555556, \"#d8576b\"], [0.6666666666666666, \"#ed7953\"], [0.7777777777777778, \"#fb9f3a\"], [0.8888888888888888, \"#fdca26\"], [1.0, \"#f0f921\"]], \"sequentialminus\": [[0.0, \"#0d0887\"], [0.1111111111111111, \"#46039f\"], [0.2222222222222222, \"#7201a8\"], [0.3333333333333333, \"#9c179e\"], [0.4444444444444444, \"#bd3786\"], [0.5555555555555556, \"#d8576b\"], [0.6666666666666666, \"#ed7953\"], [0.7777777777777778, \"#fb9f3a\"], [0.8888888888888888, \"#fdca26\"], [1.0, \"#f0f921\"]]}, \"colorway\": [\"#636efa\", \"#EF553B\", \"#00cc96\", \"#ab63fa\", \"#FFA15A\", \"#19d3f3\", \"#FF6692\", \"#B6E880\", \"#FF97FF\", \"#FECB52\"], \"font\": {\"color\": \"#2a3f5f\"}, \"geo\": {\"bgcolor\": \"white\", \"lakecolor\": \"white\", \"landcolor\": \"#E5ECF6\", \"showlakes\": true, \"showland\": true, \"subunitcolor\": \"white\"}, \"hoverlabel\": {\"align\": \"left\"}, \"hovermode\": \"closest\", \"mapbox\": {\"style\": \"light\"}, \"paper_bgcolor\": \"white\", \"plot_bgcolor\": \"#E5ECF6\", \"polar\": {\"angularaxis\": {\"gridcolor\": \"white\", \"linecolor\": \"white\", \"ticks\": \"\"}, \"bgcolor\": \"#E5ECF6\", \"radialaxis\": {\"gridcolor\": \"white\", \"linecolor\": \"white\", \"ticks\": \"\"}}, \"scene\": {\"xaxis\": {\"backgroundcolor\": \"#E5ECF6\", \"gridcolor\": \"white\", \"gridwidth\": 2, \"linecolor\": \"white\", \"showbackground\": true, \"ticks\": \"\", \"zerolinecolor\": \"white\"}, \"yaxis\": {\"backgroundcolor\": \"#E5ECF6\", \"gridcolor\": \"white\", \"gridwidth\": 2, \"linecolor\": \"white\", \"showbackground\": true, \"ticks\": \"\", \"zerolinecolor\": \"white\"}, \"zaxis\": {\"backgroundcolor\": \"#E5ECF6\", \"gridcolor\": \"white\", \"gridwidth\": 2, \"linecolor\": \"white\", \"showbackground\": true, \"ticks\": \"\", \"zerolinecolor\": \"white\"}}, \"shapedefaults\": {\"line\": {\"color\": \"#2a3f5f\"}}, \"ternary\": {\"aaxis\": {\"gridcolor\": \"white\", \"linecolor\": \"white\", \"ticks\": \"\"}, \"baxis\": {\"gridcolor\": \"white\", \"linecolor\": \"white\", \"ticks\": \"\"}, \"bgcolor\": \"#E5ECF6\", \"caxis\": {\"gridcolor\": \"white\", \"linecolor\": \"white\", \"ticks\": \"\"}}, \"title\": {\"x\": 0.05}, \"xaxis\": {\"automargin\": true, \"gridcolor\": \"white\", \"linecolor\": \"white\", \"ticks\": \"\", \"zerolinecolor\": \"white\", \"zerolinewidth\": 2}, \"yaxis\": {\"automargin\": true, \"gridcolor\": \"white\", \"linecolor\": \"white\", \"ticks\": \"\", \"zerolinecolor\": \"white\", \"zerolinewidth\": 2}}}, \"title\": {\"text\": \"Valence\"}},\n",
       "                        {\"responsive\": true}\n",
       "                    ).then(function(){\n",
       "                            \n",
       "var gd = document.getElementById('c39cf882-50b1-44da-aec6-1263229e01a0');\n",
       "var x = new MutationObserver(function (mutations, observer) {{\n",
       "        var display = window.getComputedStyle(gd).display;\n",
       "        if (!display || display === 'none') {{\n",
       "            console.log([gd, 'removed!']);\n",
       "            Plotly.purge(gd);\n",
       "            observer.disconnect();\n",
       "        }}\n",
       "}});\n",
       "\n",
       "// Listen for the removal of the full notebook cells\n",
       "var notebookContainer = gd.closest('#notebook-container');\n",
       "if (notebookContainer) {{\n",
       "    x.observe(notebookContainer, {childList: true});\n",
       "}}\n",
       "\n",
       "// Listen for the clearing of the current output cell\n",
       "var outputEl = gd.closest('.output');\n",
       "if (outputEl) {{\n",
       "    x.observe(outputEl, {childList: true});\n",
       "}}\n",
       "\n",
       "                        })\n",
       "                };\n",
       "                });\n",
       "            </script>\n",
       "        </div>"
      ]
     },
     "metadata": {},
     "output_type": "display_data"
    }
   ],
   "source": [
    "import plotly.graph_objects as go\n",
    "import numpy as np\n",
    "x_data = ['Mexico','Colombia','United States', 'Turkey', 'Spain', 'Taiwan', 'Egypt']\n",
    "y0 = np.array(df_mx['valence'])\n",
    "y1 = np.array(df_co['valence'])\n",
    "y2 = np.array(df_us['valence'])\n",
    "y3 = np.array(df_tk['valence'])\n",
    "y4 = np.array(df_sp['valence'])\n",
    "y5 = np.array(df_tw['valence'])\n",
    "y6 = np.array(df_eg['valence'])\n",
    "\n",
    "y_data = [y0, y1, y2, y3, y4, y5, y6]\n",
    "colors = ['rgba(93, 164, 214, 0.5)','rgba(255, 65, 54, 0.5)', \n",
    "          'rgba(255, 144, 14, 0.5)', 'rgba(44, 160, 101, 0.5)', 'rgba(127, 96, 0, 0.5)',\n",
    "        'rgba(200, 124, 80, 0.5)', 'rgba(150, 170, 220, 0.5)', 'rgba(70, 170, 220, 0.5)' ]\n",
    "\n",
    "fig = go.Figure()\n",
    "\n",
    "for xd, yd, cls in zip(x_data, y_data, colors):\n",
    "        fig.add_trace(go.Box(\n",
    "            y=yd,\n",
    "            name=xd,\n",
    "            boxpoints='all',\n",
    "            jitter=0.5,\n",
    "            whiskerwidth=0.2,\n",
    "            fillcolor=cls,\n",
    "            marker_size=2,\n",
    "            line_width=1)\n",
    "        )\n",
    "fig.update_layout(\n",
    "    title='Valence')\n",
    "\n",
    "fig.show(renderer=\"notebook_connected\")\n"
   ]
  },
  {
   "cell_type": "markdown",
   "metadata": {},
   "source": [
    "Valence corresponds to the level of 'happiness' in a song. It's interesting to see how it varies from country to country. And seems to be correlated with danceability. Also Mexico, Colombia and Egypt seem to have the 'happiest' songs on average.\n"
   ]
  },
  {
   "cell_type": "markdown",
   "metadata": {},
   "source": [
    "Although we see some differences from country to country. Today's playlist are highly influenced by the Global Top 50 playlist. If we wanted to do further analysis we could compare the Global Playlist to the Top 50 playlists per country and look for similarities.\n",
    "\n",
    "### Conclusion\n",
    "\n",
    "It has been interesting to see how these recommendation systems have influenced, in a way, the songs people listen to. The Spotipy library also allows you to retrieve data with timestamps. For the purpose of another tutorial we could analyze how trends have changed over time, since the algorithms for recommending songs have evolved."
   ]
  },
  {
   "cell_type": "markdown",
   "metadata": {},
   "source": [
    "### Glossary\n",
    "*uri*: The resource identifier that you can enter, for example, in the Spotify Desktop client’s search box to locate an artist, album, or track.<br>\n",
    "*Top 50 Playlist*: Spotify creates these playlist based on the most listened songs of a country. These playlists are updated daily, however there's not a lot of variation from day to day, even weekly.\n",
    "<br>\n",
    "*valence*: A measure from 0.0 to 1.0 describing the musical positiveness conveyed by a track. Tracks with high valence sound more positive (e.g. happy, cheerful, euphoric), while tracks with low valence sound more negative (e.g. sad, depressed, angry).<br>\n",
    "*danceability*: describes how suitable a track is for dancing based on a combination of musical elements including tempo, rhythm stability, beat strength, and overall regularity. A value of 0.0 is least danceable and 1.0 is most danceable.<br>\n",
    "\n",
    "\n",
    "\n",
    "### References and Resources\n",
    "\n",
    "Spotify trends and market https://www.businessofapps.com/data/spotify-statistics/\n",
    "<br>\n",
    "Spotipy documentation: https://spotipy.readthedocs.io/en/latest/#\n",
    "<br>\n",
    "List of Countries in which Spotify is available: https://support.spotify.com/us/using_spotify/the_basics/full-list-of-territories-where-spotify-is-available/"
   ]
  }
 ],
 "metadata": {
  "kernelspec": {
   "display_name": "Python 3",
   "language": "python",
   "name": "python3"
  },
  "language_info": {
   "codemirror_mode": {
    "name": "ipython",
    "version": 3
   },
   "file_extension": ".py",
   "mimetype": "text/x-python",
   "name": "python",
   "nbconvert_exporter": "python",
   "pygments_lexer": "ipython3",
   "version": "3.7.4"
  },
  "widgets": {
   "application/vnd.jupyter.widget-state+json": {
    "state": {},
    "version_major": 2,
    "version_minor": 0
   }
  }
 },
 "nbformat": 4,
 "nbformat_minor": 2
}
